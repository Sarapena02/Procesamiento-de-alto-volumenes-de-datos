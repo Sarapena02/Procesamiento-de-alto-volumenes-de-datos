{
 "cells": [
  {
   "cell_type": "markdown",
   "id": "bf0ab86f-839e-4105-bb43-c8c29ccc9132",
   "metadata": {},
   "source": [
    "# Respuestas Cuestionario 4"
   ]
  },
  {
   "cell_type": "markdown",
   "id": "fb293de1-d6d0-4a0f-9fc1-135437dc7c52",
   "metadata": {},
   "source": [
    "## Transformar la lista ['rap','house','electronic music', 'rap'] en un conjunto:"
   ]
  },
  {
   "cell_type": "code",
   "execution_count": 1,
   "id": "8c060f74-fd2c-4b0e-b5d8-0c9c5d8bcfbd",
   "metadata": {},
   "outputs": [
    {
     "data": {
      "text/plain": [
       "{' electronic music', 'house', 'rap'}"
      ]
     },
     "execution_count": 1,
     "metadata": {},
     "output_type": "execute_result"
    }
   ],
   "source": [
    "genre_list = ['rap', 'house', ' electronic music', 'rap']\n",
    "genre_set = set(genre_list)\n",
    "genre_set"
   ]
  },
  {
   "cell_type": "markdown",
   "id": "780e7e2d-3c86-4825-a6dd-f70b866f9011",
   "metadata": {},
   "source": [
    "Se uso el método \"set()\" para convertir la lista inicial dada en un conjunto con los mismos elementos de la lista. "
   ]
  },
  {
   "cell_type": "markdown",
   "id": "d1387364-96b4-4a50-83b1-8a78468531d9",
   "metadata": {},
   "source": [
    "## Considera que la lista A = [1, 2, 2, 1] y el conjunto B = set([1, 2, 2, 1]) suman sum(A) = sum(B)"
   ]
  },
  {
   "cell_type": "code",
   "execution_count": 15,
   "id": "f0397b62-eac6-44e0-b87d-bb8dfa9e5412",
   "metadata": {},
   "outputs": [],
   "source": [
    "A = [1, 2, 2, 1]\n",
    "B = set([1, 2, 2, 1])"
   ]
  },
  {
   "cell_type": "code",
   "execution_count": 6,
   "id": "22c6be10-8a91-4848-b7c0-e9f38708122d",
   "metadata": {},
   "outputs": [
    {
     "name": "stdout",
     "output_type": "stream",
     "text": [
      "6\n"
     ]
    }
   ],
   "source": [
    "print(sum(A))"
   ]
  },
  {
   "cell_type": "code",
   "execution_count": 16,
   "id": "7f5ff66c-430b-46b6-9026-3dd5c418959c",
   "metadata": {},
   "outputs": [
    {
     "name": "stdout",
     "output_type": "stream",
     "text": [
      "3\n"
     ]
    }
   ],
   "source": [
    "print(sum(B))"
   ]
  },
  {
   "cell_type": "markdown",
   "id": "b493559c-a2e2-410f-9eb3-273d14f586fa",
   "metadata": {},
   "source": [
    "El conjunto B, al usar set, elimina los elementos repetidos por lo que la suma da 3. Sin embargo, la suma de la lista da 6. Decir que sum(A) = sum(B) no es correcta."
   ]
  },
  {
   "cell_type": "markdown",
   "id": "d8daf7b1-4ddd-4709-abdf-c2249122946e",
   "metadata": {},
   "source": [
    "## Crea un nuevo conjunto album_set3 que sea la unión de album_set1 y album_set2:"
   ]
  },
  {
   "cell_type": "code",
   "execution_count": 14,
   "id": "79350f0a-50f0-466a-a1d1-98adc49bf38f",
   "metadata": {},
   "outputs": [
    {
     "data": {
      "text/plain": [
       "{'AC/DC', 'Back in Black', 'The Dark Side of the Moon', 'Thriller'}"
      ]
     },
     "execution_count": 14,
     "metadata": {},
     "output_type": "execute_result"
    }
   ],
   "source": [
    "album_set1 = set([\"Thriller\", 'AC/DC', 'Back in Black'])\n",
    "album_set2 = set([ \"AC/DC\", \"Back in Black\", \"The Dark Side of the Moon\"])\n",
    "album_set3 = album_set1.union(album_set2)\n",
    "album_set3"
   ]
  },
  {
   "cell_type": "markdown",
   "id": "338689ec-2e7d-4b20-8f24-1f49cded7101",
   "metadata": {},
   "source": [
    "Se uso el metodo \".union()\" para indicar que se realice una unión entre ambos conjuntos. "
   ]
  },
  {
   "cell_type": "markdown",
   "id": "308f4ab5-9e1e-4be5-a806-e425b89f7eb5",
   "metadata": {},
   "source": [
    "### Averigua si album_set1 es un subconjunto de album_set3:"
   ]
  },
  {
   "cell_type": "code",
   "execution_count": 17,
   "id": "e8403041-3010-471f-b954-7591ce251dd2",
   "metadata": {},
   "outputs": [
    {
     "data": {
      "text/plain": [
       "True"
      ]
     },
     "execution_count": 17,
     "metadata": {},
     "output_type": "execute_result"
    }
   ],
   "source": [
    "set(album_set1).issubset(album_set3)"
   ]
  },
  {
   "cell_type": "markdown",
   "id": "13053e45-b54b-41b2-8cd3-8e062acc3d06",
   "metadata": {},
   "source": [
    "Se confirma que el conjunto album_set1 es un subconjunto de album_set3, por lo que el valor retorna verdadero. "
   ]
  },
  {
   "cell_type": "code",
   "execution_count": null,
   "id": "960176d3-1afb-4614-a385-8284c0f7274a",
   "metadata": {},
   "outputs": [],
   "source": []
  }
 ],
 "metadata": {
  "kernelspec": {
   "display_name": "Python 3 (ipykernel)",
   "language": "python",
   "name": "python3"
  },
  "language_info": {
   "codemirror_mode": {
    "name": "ipython",
    "version": 3
   },
   "file_extension": ".py",
   "mimetype": "text/x-python",
   "name": "python",
   "nbconvert_exporter": "python",
   "pygments_lexer": "ipython3",
   "version": "3.12.4"
  }
 },
 "nbformat": 4,
 "nbformat_minor": 5
}
