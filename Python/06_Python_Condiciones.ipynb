{
 "cells": [
  {
   "cell_type": "markdown",
   "id": "ebcb439f-2bb9-4e90-b47c-de490f6033d8",
   "metadata": {},
   "source": [
    "# Respuestas Cuestionario 6"
   ]
  },
  {
   "cell_type": "markdown",
   "id": "bd342731-726a-4692-a1f7-e50abd0733c0",
   "metadata": {},
   "source": [
    "## Escribe una declaración if que determine si un disco musical tiene una calificación mayor a 8. Compruébalo utilizando el calificación del disco “Back in Black” el cual tiene un valor de 8.5. Si la condición es verdadera, imprime “\"This album is Amazing!\"”"
   ]
  },
  {
   "cell_type": "code",
   "execution_count": 9,
   "id": "bb41b4af-7def-47b9-bbc1-8b3bf8b2fe4a",
   "metadata": {},
   "outputs": [
    {
     "name": "stdout",
     "output_type": "stream",
     "text": [
      "This album is Amazing!\n"
     ]
    }
   ],
   "source": [
    "album_BB = 8.5\n",
    "if (album_BB > 8):\n",
    "    print(\"This album is Amazing!\")"
   ]
  },
  {
   "cell_type": "markdown",
   "id": "7462fc4d-386e-4865-aef4-0c3e51e16f87",
   "metadata": {},
   "source": [
    "Se comprobo que el album “Back in Black” tiene una puntuación mayor a 8.5 por lo que la condicion es verdadera"
   ]
  },
  {
   "cell_type": "markdown",
   "id": "9edccd08-bd23-452a-9cdb-1dd034783663",
   "metadata": {},
   "source": [
    "## Escribe una declaración if-else que determine lo siguiente. Si la calificación es mayor que 8 imprime “this album is amazing”. Si es menor o igual a 8 que imprima “this album is ok”."
   ]
  },
  {
   "cell_type": "code",
   "execution_count": 13,
   "id": "0d66fa38-357f-4024-bf02-cdd7fe71af6c",
   "metadata": {},
   "outputs": [
    {
     "name": "stdout",
     "output_type": "stream",
     "text": [
      "this album is ok\n"
     ]
    }
   ],
   "source": [
    "calificacion = 6\n",
    "\n",
    "if (calificacion > 8):\n",
    "    print(\"this album is amazing\")\n",
    "else:\n",
    "    print(\"this album is ok\")"
   ]
  },
  {
   "cell_type": "markdown",
   "id": "175947ed-1b15-4ebd-ab10-ea554d742f49",
   "metadata": {},
   "source": [
    "la declaración escrita anteriormente determina si la calificación del album es buena o excelente dependiendo del valor que se le asigne. "
   ]
  },
  {
   "cell_type": "markdown",
   "id": "da675a9d-8df7-4117-a846-52a89529c12f",
   "metadata": {},
   "source": [
    "## Escribe una declaración if que determine si un disco fue lanzado antes de 1980 o en los años 1991 o 1993. Si la condición es verdadera imprime el año de lanzamiento."
   ]
  },
  {
   "cell_type": "code",
   "execution_count": 16,
   "id": "55d24e4e-d8a2-4b4b-9602-ed2306ea834b",
   "metadata": {},
   "outputs": [
    {
     "name": "stdout",
     "output_type": "stream",
     "text": [
      "El album no fue hecho en 1980\n"
     ]
    }
   ],
   "source": [
    "año = 1993\n",
    "if (año < 1980) or año in [1991, 1993]:\n",
    "    print(\"El album no fue hecho en 1980\")\n",
    "else:\n",
    "    print(\"El album fue hecho en 1980\")\n"
   ]
  },
  {
   "cell_type": "markdown",
   "id": "948b6e05-ff7d-4812-ac28-d4cc7b1806b8",
   "metadata": {},
   "source": [
    "De acuerdo al año del album que se quiere comprobar, esta declaración determinara si fue hecho en esa fecha o en otra. "
   ]
  }
 ],
 "metadata": {
  "kernelspec": {
   "display_name": "Python 3 (ipykernel)",
   "language": "python",
   "name": "python3"
  },
  "language_info": {
   "codemirror_mode": {
    "name": "ipython",
    "version": 3
   },
   "file_extension": ".py",
   "mimetype": "text/x-python",
   "name": "python",
   "nbconvert_exporter": "python",
   "pygments_lexer": "ipython3",
   "version": "3.12.4"
  }
 },
 "nbformat": 4,
 "nbformat_minor": 5
}
