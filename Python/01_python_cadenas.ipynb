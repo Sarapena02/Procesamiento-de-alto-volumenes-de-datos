{
 "cells": [
  {
   "cell_type": "markdown",
   "id": "ba09bdd4-91d4-4706-8537-f645829340b3",
   "metadata": {},
   "source": [
    "# Cuestionario Primer Cuaderno"
   ]
  },
  {
   "cell_type": "markdown",
   "id": "bb877d4b-dbc2-4baa-b329-d1d36a14d4de",
   "metadata": {
    "jp-MarkdownHeadingCollapsed": true
   },
   "source": [
    "## ¿Cual es el valor de la variable A después de ejecutar el siguiente código?"
   ]
  },
  {
   "cell_type": "code",
   "execution_count": 5,
   "id": "097d25c7-dc39-4a57-a7e0-1e7bf1f09af3",
   "metadata": {},
   "outputs": [
    {
     "name": "stdout",
     "output_type": "stream",
     "text": [
      "1\n"
     ]
    }
   ],
   "source": [
    "A=\"1\"\n",
    "print(A)"
   ]
  },
  {
   "cell_type": "markdown",
   "id": "979fdbab-e5f6-41a1-a81d-626acdfb1e8e",
   "metadata": {},
   "source": [
    "El valor de A es 1, ya que nombramos una variable como \"A\" y le asignamos el valor de 1 como un caracter. "
   ]
  },
  {
   "cell_type": "markdown",
   "id": "1b7b9856-fd60-4fde-9afc-0dac0993a1df",
   "metadata": {
    "jp-MarkdownHeadingCollapsed": true
   },
   "source": [
    "## ¿Cual es el valor de la variable B después de ejecutar el siguiente código?"
   ]
  },
  {
   "cell_type": "code",
   "execution_count": 6,
   "id": "a5da4baa-185a-4bf1-9021-9e6b93e969f5",
   "metadata": {},
   "outputs": [
    {
     "name": "stdout",
     "output_type": "stream",
     "text": [
      "2\n"
     ]
    }
   ],
   "source": [
    "B=\"2\"\n",
    "print(B)"
   ]
  },
  {
   "cell_type": "markdown",
   "id": "565d5b3e-ae31-4387-a4c4-03dc1666170a",
   "metadata": {},
   "source": [
    "El valor de B es el caracter 2. Se realizo el mismo proceso que en la variable A."
   ]
  },
  {
   "cell_type": "markdown",
   "id": "8bc9a189-8a00-401d-b50e-12e113e95f83",
   "metadata": {
    "jp-MarkdownHeadingCollapsed": true
   },
   "source": [
    "## ¿Cual es el valor de la variable C después de ejecutar el siguiente código?"
   ]
  },
  {
   "cell_type": "code",
   "execution_count": 8,
   "id": "6094565f-95cd-459a-879c-d5a041e11d39",
   "metadata": {},
   "outputs": [
    {
     "name": "stdout",
     "output_type": "stream",
     "text": [
      "12\n"
     ]
    }
   ],
   "source": [
    "C= A + B\n",
    "print(C)"
   ]
  },
  {
   "cell_type": "markdown",
   "id": "5b65c126-dbb4-422e-9acc-19be0511fe97",
   "metadata": {},
   "source": [
    "Al sumar la variable A con la B, se juntaron ambos caracteres para hacer una cadena. La cual es \"12\". "
   ]
  },
  {
   "cell_type": "markdown",
   "id": "1a6f2065-c573-457c-8531-c133b3c09302",
   "metadata": {
    "jp-MarkdownHeadingCollapsed": true
   },
   "source": [
    "## En la variable D haz uso del slicing para imprimir solo los primeros tres elementos:"
   ]
  },
  {
   "cell_type": "code",
   "execution_count": 10,
   "id": "580dcf11-0eb7-4e1a-bdde-70a6378f5425",
   "metadata": {},
   "outputs": [
    {
     "data": {
      "text/plain": [
       "'ABC'"
      ]
     },
     "execution_count": 10,
     "metadata": {},
     "output_type": "execute_result"
    }
   ],
   "source": [
    "D = \"ABCDEFG\"\n",
    "D[0:3]"
   ]
  },
  {
   "cell_type": "markdown",
   "id": "810168af-b366-4783-a376-b5d94e21c49b",
   "metadata": {},
   "source": [
    "Slicing permite seleccionar elementos que estan dentro de un objeto, al indicar \"[:]\" se le esta dando la instrucción de escoger ciertos elementos. En el ejercicio pedia los primeros tres, es decir \"ABC\" de la cadena, y recordando que los caracteres de la cadena estan ubicados del 0 al 6 se indico que solo mostrara los primeros tres, empezando desde la ubicación 0 hasta la posición 3."
   ]
  },
  {
   "cell_type": "markdown",
   "id": "52e0605a-dfd6-45c0-b396-c6689fc035f6",
   "metadata": {
    "jp-MarkdownHeadingCollapsed": true
   },
   "source": [
    "## Usa un valor de stride de 2 para imprimir cada segundo elemento de la cadena E"
   ]
  },
  {
   "cell_type": "code",
   "execution_count": 17,
   "id": "0fe05bd3-5c70-418d-ac54-e58952707c9d",
   "metadata": {},
   "outputs": [
    {
     "data": {
      "text/plain": [
       "'correct'"
      ]
     },
     "execution_count": 17,
     "metadata": {},
     "output_type": "execute_result"
    }
   ],
   "source": [
    "E='clocrkr1e1c1t'\n",
    "E[::2]"
   ]
  },
  {
   "cell_type": "markdown",
   "id": "a545f208-dc1d-48e8-b67d-4a94c75b177a",
   "metadata": {},
   "source": [
    " Como se puede observar, Stride permite \"saltar\" entre los elementos que se quieren seleccionar. En este caso, se quiere imprimir cada segundo elemento de la cadena E. El resultado que nos arroja, es 'correct' lo que significa que es verdadera la operación pero si queremos ver el resultado, se puede hacer lo siguiente:"
   ]
  },
  {
   "cell_type": "code",
   "execution_count": 18,
   "id": "8f9eb9b7-c3e8-4eeb-ab81-de8ba71d9d8e",
   "metadata": {},
   "outputs": [
    {
     "name": "stdout",
     "output_type": "stream",
     "text": [
      "['c', 'o', 'r', 'r', 'e', 'c', 't']\n"
     ]
    }
   ],
   "source": [
    "caracteres_resultantes = [E[i] for i in range(0, len(E), 2)]\n",
    "print(caracteres_resultantes)"
   ]
  },
  {
   "cell_type": "markdown",
   "id": "60723bf3-7621-4072-a718-42c3e50f8052",
   "metadata": {},
   "source": [
    "Como se puede observar, se hizo el mismo \"Stride\" solamente que desde un ciclo para poder obtener los valores deseados y mostrar en pantalla los valores resultantes del stride inicial. "
   ]
  },
  {
   "cell_type": "markdown",
   "id": "ab23f1aa-2587-494e-bdd3-693b17cffc5c",
   "metadata": {
    "jp-MarkdownHeadingCollapsed": true
   },
   "source": [
    "## Imprime una barra invertida:"
   ]
  },
  {
   "cell_type": "code",
   "execution_count": 19,
   "id": "b7132b38-ed0c-4724-b3be-0a6dc30ab3b5",
   "metadata": {},
   "outputs": [
    {
     "name": "stdout",
     "output_type": "stream",
     "text": [
      "\\\n"
     ]
    }
   ],
   "source": [
    "print(\"\\\\\")"
   ]
  },
  {
   "cell_type": "markdown",
   "id": "e8ae6898-939b-43f0-a09e-7812625ee97c",
   "metadata": {
    "jp-MarkdownHeadingCollapsed": true
   },
   "source": [
    "## Convierte el mayúsculas el contenido de la variable F:"
   ]
  },
  {
   "cell_type": "code",
   "execution_count": 20,
   "id": "ba820f87-e87e-4477-bf4d-efaf6381195d",
   "metadata": {},
   "outputs": [
    {
     "name": "stdout",
     "output_type": "stream",
     "text": [
      "YOU ARE WRONG\n"
     ]
    }
   ],
   "source": [
    "F = \"You are wrong\"\n",
    "X = F.upper()\n",
    "print(X)"
   ]
  },
  {
   "cell_type": "markdown",
   "id": "6fda55fe-9989-4a9e-95bc-bf00eeea868b",
   "metadata": {},
   "source": [
    "Se utilizo la función especial de Python \".upper()\" para indicar que el valor de la variable convierta la cadena de minusculas a mayúsculas. "
   ]
  },
  {
   "cell_type": "markdown",
   "id": "fb07bf82-9ec7-47db-99ff-05e0a97bb514",
   "metadata": {
    "jp-MarkdownHeadingCollapsed": true
   },
   "source": [
    "## En la variable G, encuentra el primer índice de la sub-cadena snow:"
   ]
  },
  {
   "cell_type": "code",
   "execution_count": 23,
   "id": "ef718fa1-5723-463b-8f5e-acf62110143f",
   "metadata": {},
   "outputs": [
    {
     "name": "stdout",
     "output_type": "stream",
     "text": [
      "95\n"
     ]
    }
   ],
   "source": [
    "G = \"Mary had a little lamb Little lamb, little lamb Mary had a little lamb \\\n",
    "Its fleece was white as snow And everywhere that Mary went Mary went, Mary went \\\n",
    "Everywhere that Mary went The lamb was sure to go\"\n",
    "\n",
    "subcadena = G.find(\"snow\")\n",
    "print(subcadena)"
   ]
  },
  {
   "cell_type": "markdown",
   "id": "046b5b2c-34af-490e-b936-8b514b67b1e1",
   "metadata": {},
   "source": [
    "Para encontrar una subcadena dentro de una cadena, es necesario usar el método \".find()\" el cual permite encontrar el primer indice de la cadena que indicamos. En este caso es \"snow\" por lo cual el indice de esta es \"95\" de la varaible \"G\". "
   ]
  },
  {
   "cell_type": "markdown",
   "id": "fda7216c-13c3-4bbc-b6d9-8afc5f7bc7b3",
   "metadata": {
    "jp-MarkdownHeadingCollapsed": true
   },
   "source": [
    "## En la variable G, reemplaza la sub-cadena Mary con Bob:"
   ]
  },
  {
   "cell_type": "code",
   "execution_count": 25,
   "id": "3529eb11-ea40-423e-a4f7-67df2cd2657f",
   "metadata": {},
   "outputs": [
    {
     "name": "stdout",
     "output_type": "stream",
     "text": [
      "Bob had a little lamb Little lamb, little lamb Bob had a little lamb Its fleece was white as snow And everywhere that Bob went Bob went, Bob went Everywhere that Bob went The lamb was sure to go\n"
     ]
    }
   ],
   "source": [
    "replace = G.replace('Mary', 'Bob')\n",
    "print(replace)"
   ]
  },
  {
   "cell_type": "markdown",
   "id": "edcb2497-d5a9-4342-817a-cdf3adb84693",
   "metadata": {},
   "source": [
    "El método \".replace()\" es util cuando queremos cambiar o reemplazar segmentos de la cadena. En este caso se realizo el cambio de Mary con Bob. "
   ]
  }
 ],
 "metadata": {
  "kernelspec": {
   "display_name": "Python 3 (ipykernel)",
   "language": "python",
   "name": "python3"
  },
  "language_info": {
   "codemirror_mode": {
    "name": "ipython",
    "version": 3
   },
   "file_extension": ".py",
   "mimetype": "text/x-python",
   "name": "python",
   "nbconvert_exporter": "python",
   "pygments_lexer": "ipython3",
   "version": "3.12.4"
  }
 },
 "nbformat": 4,
 "nbformat_minor": 5
}
