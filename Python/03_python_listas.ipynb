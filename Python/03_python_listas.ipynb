{
 "cells": [
  {
   "cell_type": "markdown",
   "id": "ab877741-9291-43bf-8268-d52ac8fd31f9",
   "metadata": {},
   "source": [
    "# Respuestas Cuestionario 3"
   ]
  },
  {
   "cell_type": "markdown",
   "id": "218a292c-0233-4580-b0fa-9bbe05361f39",
   "metadata": {},
   "source": [
    "## Crea una lista a_lit con los siguientes elementos 1, hello, [1,2,3] y True\n"
   ]
  },
  {
   "cell_type": "code",
   "execution_count": 1,
   "id": "0d4ffc77-77c7-41d1-9fa6-3a1a73c141e5",
   "metadata": {},
   "outputs": [],
   "source": [
    "a_lit= [1, \"Hello\", [1, 2, 3], True]"
   ]
  },
  {
   "cell_type": "markdown",
   "id": "5ce4fd9c-3d57-4bf5-884e-43f5823b40c3",
   "metadata": {},
   "source": [
    "### Encuentra el valor almacenado en el índice 1 de a_lit"
   ]
  },
  {
   "cell_type": "code",
   "execution_count": 2,
   "id": "4b59c396-389f-4f54-b597-f7a4078a57d2",
   "metadata": {},
   "outputs": [
    {
     "data": {
      "text/plain": [
       "'Hello'"
      ]
     },
     "execution_count": 2,
     "metadata": {},
     "output_type": "execute_result"
    }
   ],
   "source": [
    "a_lit[1]"
   ]
  },
  {
   "cell_type": "markdown",
   "id": "67932048-9c9e-48a9-b0fe-071416072ae8",
   "metadata": {},
   "source": [
    "Se busco el elemento en la posición del índice 1 de la lista. "
   ]
  },
  {
   "cell_type": "markdown",
   "id": "919b1efd-87cb-4e19-b964-5c258c3e915e",
   "metadata": {},
   "source": [
    "### Obtén el elemento almacenado en el índice 1, 2 y 3 de a_lit."
   ]
  },
  {
   "cell_type": "code",
   "execution_count": 4,
   "id": "710280c4-2885-413e-b2ef-eb320d22af54",
   "metadata": {},
   "outputs": [
    {
     "data": {
      "text/plain": [
       "['Hello', [1, 2, 3], True]"
      ]
     },
     "execution_count": 4,
     "metadata": {},
     "output_type": "execute_result"
    }
   ],
   "source": [
    "a_lit[1:4]"
   ]
  },
  {
   "cell_type": "markdown",
   "id": "941db872-f1cb-4974-9e09-be2cb7929932",
   "metadata": {},
   "source": [
    "Se uso el metodo \"slicing\" para acceder a los indices 1, 2 y 3. Recordando que de esta forma se esta tomando en cuenta que el primer número (1) es el índice de inicio. Y el segundo número (4) es el índice de fin. Esto significa que obtendremos los elementos desde el índice 1 hasta el 3, ya que el 4 no se incluye."
   ]
  },
  {
   "cell_type": "markdown",
   "id": "e9ce481c-e736-46be-a644-ec046039d147",
   "metadata": {},
   "source": [
    "## Concatena las siguientes listas A = [1, 'a'] y B = [2, 1, 'd']:"
   ]
  },
  {
   "cell_type": "code",
   "execution_count": 5,
   "id": "29766215-2ad4-43f4-8e1c-8515e1644955",
   "metadata": {},
   "outputs": [
    {
     "name": "stdout",
     "output_type": "stream",
     "text": [
      "[1, 'a', 2, 1, 'd']\n"
     ]
    }
   ],
   "source": [
    "A = [1, 'a']\n",
    "B = [2, 1, 'd']\n",
    "C = A + B\n",
    "print(C)"
   ]
  },
  {
   "cell_type": "markdown",
   "id": "ae620087-86a3-46e7-ace6-b6e9ee8b40af",
   "metadata": {},
   "source": [
    "Se uso el operador lógico '+' para unir los elementos de ambas listas en una sola. "
   ]
  }
 ],
 "metadata": {
  "kernelspec": {
   "display_name": "Python 3 (ipykernel)",
   "language": "python",
   "name": "python3"
  },
  "language_info": {
   "codemirror_mode": {
    "name": "ipython",
    "version": 3
   },
   "file_extension": ".py",
   "mimetype": "text/x-python",
   "name": "python",
   "nbconvert_exporter": "python",
   "pygments_lexer": "ipython3",
   "version": "3.12.4"
  }
 },
 "nbformat": 4,
 "nbformat_minor": 5
}
