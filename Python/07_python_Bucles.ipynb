{
 "cells": [
  {
   "cell_type": "markdown",
   "id": "51b16131-6c3f-4c30-8222-c3fe6de4e4d4",
   "metadata": {},
   "source": [
    "# Respuestas Cuestionario 7"
   ]
  },
  {
   "cell_type": "markdown",
   "id": "c3a77613-83a3-4eca-a644-a97ff0d4ab16",
   "metadata": {},
   "source": [
    "## Escribe un bucle for que imprima todos los elementos entre -5 y 5 usando la función range."
   ]
  },
  {
   "cell_type": "code",
   "execution_count": 1,
   "id": "a533b947-be19-458c-9d78-35ad20478204",
   "metadata": {},
   "outputs": [
    {
     "name": "stdout",
     "output_type": "stream",
     "text": [
      "-5\n",
      "-4\n",
      "-3\n",
      "-2\n",
      "-1\n",
      "0\n",
      "1\n",
      "2\n",
      "3\n",
      "4\n"
     ]
    }
   ],
   "source": [
    "for i in range(-5, 5):\n",
    "    print(i)"
   ]
  },
  {
   "cell_type": "markdown",
   "id": "50c0433e-d5ee-40ee-8a3e-b7a4bc32d8ef",
   "metadata": {},
   "source": [
    "Con el método \"range()\", podemos ejecutar un bucle que funcione desde el -5 hasta el 5. No se muestra el 5 porque empieza desde 0. "
   ]
  },
  {
   "cell_type": "markdown",
   "id": "30a2b517-f15c-479a-9826-72df742fd208",
   "metadata": {},
   "source": [
    "## Imprime los elementos de la siguiente lista: Genres=[ 'rock', 'R&B', 'Soundtrack', 'R&B', 'soul', 'pop'] Y asegúrate de seguir las convenciones del lenguaje Python"
   ]
  },
  {
   "cell_type": "code",
   "execution_count": 3,
   "id": "ef76ff5f-822d-4717-9b41-f729f9a77aa8",
   "metadata": {},
   "outputs": [
    {
     "data": {
      "text/plain": [
       "['rock', 'R&B', 'Soundtrack', 'R&B', 'soul', 'pop']"
      ]
     },
     "execution_count": 3,
     "metadata": {},
     "output_type": "execute_result"
    }
   ],
   "source": [
    "Genres=[ 'rock', 'R&B', 'Soundtrack', 'R&B', 'soul', 'pop'] \n",
    "Genres"
   ]
  },
  {
   "cell_type": "markdown",
   "id": "63b503be-dc10-48cc-adb1-6bdc22604cfd",
   "metadata": {},
   "source": [
    "## Escribe un bucle for que imprima la siguiente lista: squares=['red', 'yellow', 'green', 'purple', 'blue']"
   ]
  },
  {
   "cell_type": "code",
   "execution_count": 4,
   "id": "383c738a-7617-43fc-a0c8-b775b461ecf3",
   "metadata": {},
   "outputs": [
    {
     "name": "stdout",
     "output_type": "stream",
     "text": [
      "red\n",
      "yellow\n",
      "green\n",
      "purple\n",
      "blue\n"
     ]
    }
   ],
   "source": [
    "squares=['red', 'yellow', 'green', 'purple', 'blue']\n",
    "\n",
    "for n in squares:\n",
    "    print(n)"
   ]
  },
  {
   "cell_type": "markdown",
   "id": "53e26466-a3a1-4ba8-958b-845468497ae9",
   "metadata": {},
   "source": [
    "Se declara la lista que queremos imprimir en bucle. Luego se llama dentro del bucle para realizar el procedimiento correcto"
   ]
  },
  {
   "cell_type": "markdown",
   "id": "30e64eab-d7d7-49e0-b851-3aca0255ab70",
   "metadata": {},
   "source": [
    "## Escribe un bucle while que muestre los valores de la calificación de las canciones de un disco almacenados en la lista PlayListRatings. Si la calificación es menor a 6, sal del bucle. La lista PlayListRatings esta compuesta por: PlayListRatings = [10, 9.5, 10, 8, 7.5, 5, 10, 10]"
   ]
  },
  {
   "cell_type": "code",
   "execution_count": 6,
   "id": "ea4fd0dd-e8f4-48c7-bfec-48bcda33992b",
   "metadata": {},
   "outputs": [
    {
     "name": "stdout",
     "output_type": "stream",
     "text": [
      "10\n",
      "9.5\n",
      "10\n",
      "8\n",
      "7.5\n"
     ]
    }
   ],
   "source": [
    "PlayListRatings = [10, 9.5, 10, 8, 7.5, 5, 10, 10]\n",
    "i = 0\n",
    "while i < len(PlayListRatings):\n",
    "    if PlayListRatings[i] < 6:\n",
    "        break\n",
    "    print(PlayListRatings[i])\n",
    "    i += 1\n",
    "    "
   ]
  },
  {
   "cell_type": "markdown",
   "id": "8a6af656-a0ec-4aa8-9f26-70c5ea980033",
   "metadata": {},
   "source": [
    "En cada iteración:\n",
    "Se Comprueba si la calificación actual es menor que 6. Si es menor que 6, usamos break para salir del bucle. Si no, imprimimos la calificación actual. Incrementamos i en 1 para pasar a la siguiente calificación."
   ]
  },
  {
   "cell_type": "markdown",
   "id": "3b068a9e-b7cb-4bc5-8f25-4ab148546908",
   "metadata": {},
   "source": [
    "## Escribe un bucle while que copie las cadenas 'orange' de la lista squares a la lista new_squares. Detente y sal del ciclo si el valor en la lista no es 'orange':"
   ]
  },
  {
   "cell_type": "code",
   "execution_count": 10,
   "id": "d9dd8bd9-160d-4a40-8fa2-4601faaf116d",
   "metadata": {},
   "outputs": [
    {
     "name": "stdout",
     "output_type": "stream",
     "text": [
      "['orange', 'orange']\n"
     ]
    }
   ],
   "source": [
    "squares = ['orange', 'orange', 'purple', 'blue', 'orange']\n",
    "new_squares = []\n",
    "\n",
    "i = 0\n",
    "while i < len(squares) and squares[i] == 'orange':\n",
    "    new_squares.append(squares[i])\n",
    "    i += 1\n",
    "\n",
    "print(new_squares)"
   ]
  },
  {
   "cell_type": "markdown",
   "id": "c881e47a-c1df-4317-82e2-00f2ea6c870f",
   "metadata": {},
   "source": [
    "Este código copia elementos 'orange' de la lista squares a new_squares usando un bucle while. La condición \"i < len(squares) and squares[i] == 'orange'\" asegura que el bucle se detenga cuando se alcance el final de la lista o se encuentre un elemento que no sea 'orange'"
   ]
  }
 ],
 "metadata": {
  "kernelspec": {
   "display_name": "Python 3 (ipykernel)",
   "language": "python",
   "name": "python3"
  },
  "language_info": {
   "codemirror_mode": {
    "name": "ipython",
    "version": 3
   },
   "file_extension": ".py",
   "mimetype": "text/x-python",
   "name": "python",
   "nbconvert_exporter": "python",
   "pygments_lexer": "ipython3",
   "version": "3.12.4"
  }
 },
 "nbformat": 4,
 "nbformat_minor": 5
}
