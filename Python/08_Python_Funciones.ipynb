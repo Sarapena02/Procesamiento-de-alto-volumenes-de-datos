{
 "cells": [
  {
   "cell_type": "markdown",
   "id": "4045a051-6eca-44f7-a480-885bf045895f",
   "metadata": {},
   "source": [
    "# Respuestas Cuestionario 8"
   ]
  },
  {
   "cell_type": "markdown",
   "id": "3981a7ce-a05a-4550-af3b-88652d1a27dd",
   "metadata": {},
   "source": [
    "## Cree una función que divida la primera entrada por la segunda entrada:"
   ]
  },
  {
   "cell_type": "code",
   "execution_count": 1,
   "id": "7d64d5f1-ce91-420b-b701-c92d4f0c913c",
   "metadata": {},
   "outputs": [
    {
     "name": "stdout",
     "output_type": "stream",
     "text": [
      "5.0\n"
     ]
    }
   ],
   "source": [
    "def dividir(a, b):\n",
    "    if b != 0:\n",
    "        return a / b\n",
    "    else:\n",
    "        return \"Error: No se puede dividir por cero\"\n",
    "\n",
    "resultado = dividir(10, 2)\n",
    "print(resultado)"
   ]
  },
  {
   "cell_type": "markdown",
   "id": "3dfe67cd-5aff-4c62-bb9a-c0f80e551346",
   "metadata": {},
   "source": [
    "Esta función toma dos argumentos, a y b, y devuelve el resultado de a dividido por b."
   ]
  },
  {
   "cell_type": "markdown",
   "id": "e3f9f2ec-3971-4ceb-b802-e7c3645effee",
   "metadata": {},
   "source": [
    "## Utilice la función  con  para la siguiente pregunta."
   ]
  },
  {
   "cell_type": "code",
   "execution_count": 4,
   "id": "8ccc9c4e-41a4-48c6-af4e-6fcfc3bca300",
   "metadata": {},
   "outputs": [],
   "source": [
    "def con(a, b):\n",
    "    return(a + b)"
   ]
  },
  {
   "cell_type": "markdown",
   "id": "07a53e61-de01-4ebf-ac11-9c983bafb643",
   "metadata": {},
   "source": [
    "### ¿Se puede usar la función  con  que definimos antes para agregar números enteros o cadenas?"
   ]
  },
  {
   "cell_type": "markdown",
   "id": "824dfceb-cbc3-4fd1-8aff-608a1ce4890f",
   "metadata": {},
   "source": [
    "Si es posible. Python usa sobrecargadores que permiten agregar mas elementos. "
   ]
  },
  {
   "cell_type": "code",
   "execution_count": 5,
   "id": "ebc7af6b-6759-4a9d-abc3-5fa114290069",
   "metadata": {},
   "outputs": [
    {
     "name": "stdout",
     "output_type": "stream",
     "text": [
      "7\n"
     ]
    }
   ],
   "source": [
    "resultado = con(3, 4)\n",
    "print(resultado)"
   ]
  },
  {
   "cell_type": "code",
   "execution_count": 6,
   "id": "5ea082fd-8a14-4b77-9236-565f3bfbb11f",
   "metadata": {},
   "outputs": [
    {
     "name": "stdout",
     "output_type": "stream",
     "text": [
      "Hola mundo\n"
     ]
    }
   ],
   "source": [
    "resultado = con(\"Hola \", \"mundo\")\n",
    "print(resultado)"
   ]
  },
  {
   "cell_type": "markdown",
   "id": "d3f2e6a7-d304-4483-b285-bacbabd9d8ff",
   "metadata": {},
   "source": [
    "La función con simplemente usa el operador +, que en Python tiene diferentes comportamientos dependiendo del tipo de datos:\n",
    "Con números, realiza una suma aritmética.\n",
    "Con cadenas, realiza una concatenación."
   ]
  },
  {
   "cell_type": "markdown",
   "id": "509b64d5-c05f-4ce2-8c5f-d7861b9c24b5",
   "metadata": {},
   "source": [
    "### ¿Se puede usar la función  con  que definimos antes para concentrar una lista o tupla?"
   ]
  },
  {
   "cell_type": "code",
   "execution_count": 7,
   "id": "36f18f48-4a1b-4855-afa4-a3ed445a427a",
   "metadata": {},
   "outputs": [
    {
     "name": "stdout",
     "output_type": "stream",
     "text": [
      "[1, 2, 3, 4, 5, 6]\n",
      "(1, 2, 3, 4, 5, 6)\n"
     ]
    }
   ],
   "source": [
    "# Para listas\n",
    "lista1 = [1, 2, 3]\n",
    "lista2 = [4, 5, 6]\n",
    "resultado_lista = con(lista1, lista2)\n",
    "print(resultado_lista)\n",
    "\n",
    "# Para tuplas\n",
    "tupla1 = (1, 2, 3)\n",
    "tupla2 = (4, 5, 6)\n",
    "resultado_tupla = con(tupla1, tupla2)\n",
    "print(resultado_tupla)"
   ]
  },
  {
   "cell_type": "markdown",
   "id": "99cc233c-c2c5-4b76-acfa-0301f3761601",
   "metadata": {},
   "source": [
    "La funcion \"con\" funcionará correctamente para listas y tuplas debido a que en Python la operación + se define para estas estructuras de datos como la concatenación."
   ]
  }
 ],
 "metadata": {
  "kernelspec": {
   "display_name": "Python 3 (ipykernel)",
   "language": "python",
   "name": "python3"
  },
  "language_info": {
   "codemirror_mode": {
    "name": "ipython",
    "version": 3
   },
   "file_extension": ".py",
   "mimetype": "text/x-python",
   "name": "python",
   "nbconvert_exporter": "python",
   "pygments_lexer": "ipython3",
   "version": "3.12.4"
  }
 },
 "nbformat": 4,
 "nbformat_minor": 5
}
