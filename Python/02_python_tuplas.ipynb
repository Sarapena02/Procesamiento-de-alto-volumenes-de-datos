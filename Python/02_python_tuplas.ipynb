{
 "cells": [
  {
   "cell_type": "markdown",
   "id": "38ed4da2-3d69-4cda-85b6-1e1106ce2251",
   "metadata": {},
   "source": [
    "# Respuestas Cuestionario 2 - Tuplas"
   ]
  },
  {
   "cell_type": "markdown",
   "id": "20e1a494-0222-45c5-a0e7-f918cc602e4a",
   "metadata": {},
   "source": [
    "## Considérese la siguiente tupla:"
   ]
  },
  {
   "cell_type": "code",
   "execution_count": 2,
   "id": "fa7713c8-589a-40a9-968f-e3d9dd1c1449",
   "metadata": {},
   "outputs": [
    {
     "data": {
      "text/plain": [
       "('pop',\n",
       " 'rock',\n",
       " 'soul',\n",
       " 'hard rock',\n",
       " 'soft rock',\n",
       " 'R&B',\n",
       " 'progressive rock',\n",
       " 'disco')"
      ]
     },
     "execution_count": 2,
     "metadata": {},
     "output_type": "execute_result"
    }
   ],
   "source": [
    "genres_tuple = (\"pop\", \"rock\", \"soul\", \"hard rock\", \"soft rock\", \\\n",
    "                \"R&B\", \"progressive rock\", \"disco\") \n",
    "genres_tuple"
   ]
  },
  {
   "cell_type": "markdown",
   "id": "db5b01f9-1780-4378-8dca-b137faffead9",
   "metadata": {},
   "source": [
    "### Encontrar la longitud de la tupla, genres_tuple:"
   ]
  },
  {
   "cell_type": "code",
   "execution_count": 4,
   "id": "0f7f2a16-d635-493c-b6d0-08f19f76f134",
   "metadata": {},
   "outputs": [
    {
     "data": {
      "text/plain": [
       "8"
      ]
     },
     "execution_count": 4,
     "metadata": {},
     "output_type": "execute_result"
    }
   ],
   "source": [
    "longitud = len(genres_tuple)\n",
    "longitud"
   ]
  },
  {
   "cell_type": "markdown",
   "id": "144ead8e-ab0e-4a1a-a1d1-fa31c38524e2",
   "metadata": {},
   "source": [
    "Se hizo uso del método \"len()\" que indica cuantos elementos hay dentro de la tupla. En este caso, se encontro que la tupla \"genres_tuple\" cuenta con 8 elementos. "
   ]
  },
  {
   "cell_type": "markdown",
   "id": "0a174daa-15cd-4818-9d8f-0496484495f5",
   "metadata": {},
   "source": [
    "### Accede al elemento en el índice 3:"
   ]
  },
  {
   "cell_type": "code",
   "execution_count": 6,
   "id": "fc90bb3b-c00e-45a4-88b8-c4d6d1698100",
   "metadata": {},
   "outputs": [
    {
     "data": {
      "text/plain": [
       "'soul'"
      ]
     },
     "execution_count": 6,
     "metadata": {},
     "output_type": "execute_result"
    }
   ],
   "source": [
    "genres_tuple[2]"
   ]
  },
  {
   "cell_type": "markdown",
   "id": "399d2fd8-fc57-4518-9483-376773c40c76",
   "metadata": {},
   "source": [
    "Se muestra el genero \"soul\" al encontrarse en la posición del indice 3. "
   ]
  },
  {
   "cell_type": "markdown",
   "id": "1ca6744b-2abc-46e3-ae8c-6d64f637370b",
   "metadata": {},
   "source": [
    "### Utiliza el slicing para obtener los índices 3, 4 y 5:"
   ]
  },
  {
   "cell_type": "code",
   "execution_count": 9,
   "id": "dc165077-40ec-4737-b9be-b4ea33f701ec",
   "metadata": {},
   "outputs": [
    {
     "data": {
      "text/plain": [
       "('hard rock', 'soft rock', 'R&B')"
      ]
     },
     "execution_count": 9,
     "metadata": {},
     "output_type": "execute_result"
    }
   ],
   "source": [
    "tuple2 = genres_tuple[3:6]\n",
    "tuple2"
   ]
  },
  {
   "cell_type": "markdown",
   "id": "068241ef-a77a-4665-aedb-e515e267c698",
   "metadata": {},
   "source": [
    "Se mostro los elementos en las posiciones 3, 4 y 5 usando \"Slice\" para acceder a estos elementos. "
   ]
  },
  {
   "cell_type": "markdown",
   "id": "c60dfd10-cf9b-4b91-9ebd-aa9a12a48ecf",
   "metadata": {},
   "source": [
    "### Encuentra los primeros dos elementos de la tupla genres_tuple:"
   ]
  },
  {
   "cell_type": "code",
   "execution_count": 10,
   "id": "2bd34a0b-91b1-4e00-be7f-ab44fa2bc5af",
   "metadata": {},
   "outputs": [
    {
     "data": {
      "text/plain": [
       "('pop', 'rock')"
      ]
     },
     "execution_count": 10,
     "metadata": {},
     "output_type": "execute_result"
    }
   ],
   "source": [
    "tuple3 = genres_tuple[:2]\n",
    "tuple3"
   ]
  },
  {
   "cell_type": "markdown",
   "id": "0dab4d94-f47e-499c-8906-09d2f244a2c3",
   "metadata": {},
   "source": [
    "Como en el caso anterior, se creo una nueva tupla que contiene los primeros dos elementos de genres_tuple los cuales son \"pop\" y \"rock\""
   ]
  },
  {
   "cell_type": "markdown",
   "id": "18e013c2-9dcc-492e-ac8f-162b98f5bbb8",
   "metadata": {},
   "source": [
    "### Encuentra el primer índice de \"disco\""
   ]
  },
  {
   "cell_type": "code",
   "execution_count": 16,
   "id": "901e336a-dcf6-401e-9c21-e945a4183ca3",
   "metadata": {},
   "outputs": [
    {
     "data": {
      "text/plain": [
       "7"
      ]
     },
     "execution_count": 16,
     "metadata": {},
     "output_type": "execute_result"
    }
   ],
   "source": [
    "genres_tuple.index(\"disco\")"
   ]
  },
  {
   "cell_type": "markdown",
   "id": "a810e994-5678-43c0-9a1c-24a8953a8977",
   "metadata": {},
   "source": [
    "Se hizo uso del método \".index()\" para encontrar el primer indice del elemento \"disco\" dentro de la tupla \"genres_tuple\"."
   ]
  },
  {
   "cell_type": "markdown",
   "id": "8313cd90-44a9-4922-9270-48cd8d7a1c78",
   "metadata": {},
   "source": [
    "## Genera una lista ordenada desde la tupla C_tuple=(-5, 1, -3):\n"
   ]
  },
  {
   "cell_type": "code",
   "execution_count": 17,
   "id": "7201b070-fbfd-4011-bcac-bdd3a57e6be3",
   "metadata": {},
   "outputs": [
    {
     "data": {
      "text/plain": [
       "[-5, -3, 1]"
      ]
     },
     "execution_count": 17,
     "metadata": {},
     "output_type": "execute_result"
    }
   ],
   "source": [
    "C_tuple=(-5, 1, -3)\n",
    "orden = sorted(C_tuple)\n",
    "orden"
   ]
  },
  {
   "cell_type": "markdown",
   "id": "53b5127b-e7ae-4a81-b26b-05092709279e",
   "metadata": {},
   "source": [
    "Se uso el método \"sorted()\" para ordenar de menor a myor la tupla dada."
   ]
  }
 ],
 "metadata": {
  "kernelspec": {
   "display_name": "Python 3 (ipykernel)",
   "language": "python",
   "name": "python3"
  },
  "language_info": {
   "codemirror_mode": {
    "name": "ipython",
    "version": 3
   },
   "file_extension": ".py",
   "mimetype": "text/x-python",
   "name": "python",
   "nbconvert_exporter": "python",
   "pygments_lexer": "ipython3",
   "version": "3.12.4"
  }
 },
 "nbformat": 4,
 "nbformat_minor": 5
}
