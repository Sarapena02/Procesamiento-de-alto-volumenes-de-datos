{
 "cells": [
  {
   "cell_type": "markdown",
   "id": "38891332-4e4f-4f50-8b2c-5779994c1fff",
   "metadata": {},
   "source": [
    "***************************"
   ]
  },
  {
   "cell_type": "markdown",
   "id": "bab2ae37-9cb3-4682-a11c-db4944773c98",
   "metadata": {},
   "source": [
    "---"
   ]
  },
  {
   "cell_type": "markdown",
   "id": "753e0c9f-e241-43fa-827e-f344e8dabe91",
   "metadata": {},
   "source": [
    "# PONTIFICA UNIVERSIDAD JAVERIANA\n",
    "## MATERIA: PROCESAMIENTO DE DATOS A GRAN ESCALA\n",
    "## ESTUDIANTE: SARA JULIANA PEÑA GÓMEZ\n",
    "## PROFESOR: JOHN CORREDOR\n",
    "## TALLER-CURSO PYTHON"
   ]
  },
  {
   "cell_type": "markdown",
   "id": "559998b5-bccc-46dc-9b3e-04850eacdba3",
   "metadata": {},
   "source": [
    "--------------------------"
   ]
  },
  {
   "cell_type": "markdown",
   "id": "4314d8e4-6ff3-478f-b390-4c0258df1b32",
   "metadata": {},
   "source": [
    "------------"
   ]
  },
  {
   "cell_type": "markdown",
   "id": "b638a811-7b62-4ac4-b266-59aae447978c",
   "metadata": {},
   "source": [
    "# Respuestas Primer Cuestionario - Cadenas\n",
    "\n",
    "\n",
    "\n",
    "\n",
    "\n",
    "\n",
    "## ¿Cual es el valor de la variable A después de ejecutar el siguiente código?"
   ]
  },
  {
   "cell_type": "code",
   "execution_count": 4,
   "id": "6b0c4d32-254b-4c35-9222-6ac5ac8ef06d",
   "metadata": {},
   "outputs": [
    {
     "name": "stdout",
     "output_type": "stream",
     "text": [
      "1\n"
     ]
    }
   ],
   "source": [
    "A=\"1\"\n",
    "print(A)"
   ]
  },
  {
   "cell_type": "markdown",
   "id": "09515222-9526-4a03-a0b7-2b513b1c95fb",
   "metadata": {},
   "source": [
    "El valor de A es 1, ya que nombramos una variable como \"A\" y le asignamos el valor de 1 como un caracter."
   ]
  },
  {
   "cell_type": "markdown",
   "id": "5660bdf0-4a5b-480e-b060-ca6564de2233",
   "metadata": {},
   "source": [
    "## ¿Cual es el valor de la variable B después de ejecutar el siguiente código?"
   ]
  },
  {
   "cell_type": "code",
   "execution_count": 5,
   "id": "e14ee01f-0dbc-413c-84ed-b1591629019f",
   "metadata": {},
   "outputs": [
    {
     "name": "stdout",
     "output_type": "stream",
     "text": [
      "2\n"
     ]
    }
   ],
   "source": [
    "B=\"2\"\n",
    "print(B)"
   ]
  },
  {
   "cell_type": "markdown",
   "id": "9f45d61a-d2e5-4bf9-89b2-8ddb0296be60",
   "metadata": {},
   "source": [
    "## ¿Cual es el valor de la variable C después de ejecutar el siguiente código?"
   ]
  },
  {
   "cell_type": "code",
   "execution_count": 7,
   "id": "0c5ea3db-6e00-4142-8bf9-23bab91ac44c",
   "metadata": {},
   "outputs": [
    {
     "name": "stdout",
     "output_type": "stream",
     "text": [
      "12\n"
     ]
    }
   ],
   "source": [
    "C= A + B\n",
    "print(C)"
   ]
  },
  {
   "cell_type": "markdown",
   "id": "e7781a84-6afb-4260-b22c-e53ee47cef83",
   "metadata": {},
   "source": [
    "Al sumar la variable A con la B, se juntaron ambos caracteres para hacer una cadena. La cual es \"12\"."
   ]
  },
  {
   "cell_type": "markdown",
   "id": "4d11cf9b-88d9-4c75-bb4a-c89c82ff2a0f",
   "metadata": {},
   "source": [
    "## En la variable D haz uso del slicing para imprimir solo los primeros tres elementos:"
   ]
  },
  {
   "cell_type": "code",
   "execution_count": 8,
   "id": "e3b0dfa1-909f-48b7-8508-c22910512a79",
   "metadata": {},
   "outputs": [
    {
     "data": {
      "text/plain": [
       "'ABC'"
      ]
     },
     "execution_count": 8,
     "metadata": {},
     "output_type": "execute_result"
    }
   ],
   "source": [
    "D = \"ABCDEFG\"\n",
    "D[0:3]"
   ]
  },
  {
   "cell_type": "markdown",
   "id": "f04f79f5-844e-48bd-b1d6-41970b620796",
   "metadata": {},
   "source": [
    "Slicing permite seleccionar elementos que estan dentro de un objeto, al indicar \"[:]\" se le esta dando la instrucción de escoger ciertos elementos. En el ejercicio pedia los primeros tres, es decir \"ABC\" de la cadena, y recordando que los caracteres de la cadena estan ubicados del 0 al 6 se indico que solo mostrara los primeros tres, empezando desde la ubicación 0 hasta la posición 3."
   ]
  },
  {
   "cell_type": "markdown",
   "id": "f8cb4dd1-4f88-4e66-8468-8152d01109e2",
   "metadata": {},
   "source": [
    "## Usa un valor de stride de 2 para imprimir cada segundo elemento de la cadena E"
   ]
  },
  {
   "cell_type": "code",
   "execution_count": 9,
   "id": "ee077419-b3b8-4b00-a8a5-9480ee71b83f",
   "metadata": {},
   "outputs": [
    {
     "data": {
      "text/plain": [
       "'correct'"
      ]
     },
     "execution_count": 9,
     "metadata": {},
     "output_type": "execute_result"
    }
   ],
   "source": [
    "E='clocrkr1e1c1t'\n",
    "E[::2]"
   ]
  },
  {
   "cell_type": "markdown",
   "id": "b06b5e8f-4b79-4ba3-b1d3-ca6ffb1c0f9e",
   "metadata": {},
   "source": [
    "Como se puede observar, Stride permite \"saltar\" entre los elementos que se quieren seleccionar. En este caso, se quiere imprimir cada segundo elemento de la cadena E. El resultado que nos arroja, es 'correct' lo que significa que es verdadera la operación pero si queremos ver el resultado, se puede hacer lo siguiente:"
   ]
  },
  {
   "cell_type": "code",
   "execution_count": 10,
   "id": "a058022d-71bc-4f7b-94eb-ca62cf30755b",
   "metadata": {},
   "outputs": [
    {
     "name": "stdout",
     "output_type": "stream",
     "text": [
      "['c', 'o', 'r', 'r', 'e', 'c', 't']\n"
     ]
    }
   ],
   "source": [
    "caracteres_resultantes = [E[i] for i in range(0, len(E), 2)]\n",
    "print(caracteres_resultantes)"
   ]
  },
  {
   "cell_type": "markdown",
   "id": "aab1492b-162d-4d3e-8f70-765be3bd9db9",
   "metadata": {},
   "source": [
    "Como se puede observar, se hizo el mismo \"Stride\" solamente que desde un ciclo para poder obtener los valores deseados y mostrar en pantalla los valores resultantes del stride inicial."
   ]
  },
  {
   "cell_type": "markdown",
   "id": "d26b1843-3b52-4eb8-a56d-988b3bf54f06",
   "metadata": {},
   "source": [
    "## Imprime una barra invertida:"
   ]
  },
  {
   "cell_type": "code",
   "execution_count": 11,
   "id": "19ddd8b1-a4fd-44c4-a735-e1d2006eb0fd",
   "metadata": {},
   "outputs": [
    {
     "name": "stdout",
     "output_type": "stream",
     "text": [
      "\\\n"
     ]
    }
   ],
   "source": [
    "print(\"\\\\\")"
   ]
  },
  {
   "cell_type": "markdown",
   "id": "941e6c44-340b-4ba5-a288-868bfca393ce",
   "metadata": {},
   "source": [
    "Convierte el mayúsculas el contenido de la variable F:"
   ]
  },
  {
   "cell_type": "code",
   "execution_count": 12,
   "id": "0d77b8d6-6a4a-4238-8581-03d166ea356e",
   "metadata": {},
   "outputs": [
    {
     "name": "stdout",
     "output_type": "stream",
     "text": [
      "YOU ARE WRONG\n"
     ]
    }
   ],
   "source": [
    "F = \"You are wrong\"\n",
    "X = F.upper()\n",
    "print(X)"
   ]
  },
  {
   "cell_type": "markdown",
   "id": "6993ae33-b6d4-48be-bbc2-5835bc859663",
   "metadata": {},
   "source": [
    "Se utilizo la función especial de Python \".upper()\" para indicar que el valor de la variable convierta la cadena de minusculas a mayúsculas."
   ]
  },
  {
   "cell_type": "markdown",
   "id": "6d9f3924-07bf-45e1-b9a4-eb66ba4a9dc7",
   "metadata": {},
   "source": [
    "## En la variable G, encuentra el primer índice de la sub-cadena snow:"
   ]
  },
  {
   "cell_type": "markdown",
   "id": "571c4532-8d8f-45a8-af71-1df8c9e2775b",
   "metadata": {},
   "source": [
    "G = \"Mary had a little lamb Little lamb, little lamb Mary had a little lamb \\\n",
    "Its fleece was white as snow And everywhere that Mary went Mary went, Mary went \\\n",
    "Everywhere that Mary went The lamb was sure to go\"\n",
    "\n",
    "subcadena = G.find(\"snow\")\n",
    "print(subcadena)"
   ]
  },
  {
   "cell_type": "markdown",
   "id": "2a0be056-e824-43fe-bdfb-38c66382f016",
   "metadata": {},
   "source": [
    "Para encontrar una subcadena dentro de una cadena, es necesario usar el método \".find()\" el cual permite encontrar el primer indice de la cadena que indicamos. En este caso es \"snow\" por lo cual el indice de esta es \"95\" de la varaible \"G\"."
   ]
  },
  {
   "cell_type": "markdown",
   "id": "f3705cd5-d5b5-4e58-be17-8e554c64df57",
   "metadata": {},
   "source": [
    "## En la variable G, reemplaza la sub-cadena Mary con Bob:"
   ]
  },
  {
   "cell_type": "code",
   "execution_count": 14,
   "id": "b53c5feb-3e87-4891-9b43-74e065635124",
   "metadata": {},
   "outputs": [
    {
     "name": "stdout",
     "output_type": "stream",
     "text": [
      "Bob had a little lamb Little lamb, little lamb Bob had a little lamb Its fleece was white as snow And everywhere that Bob went Bob went, Bob went Everywhere that Bob went The lamb was sure to go\n"
     ]
    }
   ],
   "source": [
    "replace = G.replace('Mary', 'Bob')\n",
    "print(replace)"
   ]
  },
  {
   "cell_type": "markdown",
   "id": "9ae28551-59e5-4b93-9725-bc32318ef749",
   "metadata": {},
   "source": [
    "El método \".replace()\" es util cuando queremos cambiar o reemplazar segmentos de la cadena. En este caso se realizo el cambio de Mary con Bob. "
   ]
  },
  {
   "cell_type": "markdown",
   "id": "0fef497f-d257-4676-8be1-b22f64cb6055",
   "metadata": {},
   "source": [
    "-------------------------------------------------------------------"
   ]
  },
  {
   "cell_type": "markdown",
   "id": "7bfcf658-018c-4d0b-9ee3-cf92d4e6717b",
   "metadata": {},
   "source": [
    "# Respuestas Segundo Cuestionario - Tuplas"
   ]
  },
  {
   "cell_type": "markdown",
   "id": "5ef46ba4-7571-4101-ba94-6d1107d71877",
   "metadata": {},
   "source": [
    "## Considérese la siguiente tupla:"
   ]
  },
  {
   "cell_type": "code",
   "execution_count": 15,
   "id": "77a50a19-6e7f-48c4-b954-26eb7320822d",
   "metadata": {},
   "outputs": [
    {
     "data": {
      "text/plain": [
       "('pop',\n",
       " 'rock',\n",
       " 'soul',\n",
       " 'hard rock',\n",
       " 'soft rock',\n",
       " 'R&B',\n",
       " 'progressive rock',\n",
       " 'disco')"
      ]
     },
     "execution_count": 15,
     "metadata": {},
     "output_type": "execute_result"
    }
   ],
   "source": [
    "genres_tuple = (\"pop\", \"rock\", \"soul\", \"hard rock\", \"soft rock\", \\\n",
    "                \"R&B\", \"progressive rock\", \"disco\") \n",
    "genres_tuple"
   ]
  },
  {
   "cell_type": "markdown",
   "id": "a5ad1615-b0d6-4ce7-a10f-e4597ff27b47",
   "metadata": {},
   "source": [
    "### Encontrar la longitud de la tupla, genres_tuple:"
   ]
  },
  {
   "cell_type": "code",
   "execution_count": 16,
   "id": "1bcf36a3-1882-4f1d-9034-fd4b7d9f05f8",
   "metadata": {},
   "outputs": [
    {
     "data": {
      "text/plain": [
       "8"
      ]
     },
     "execution_count": 16,
     "metadata": {},
     "output_type": "execute_result"
    }
   ],
   "source": [
    "longitud = len(genres_tuple)\n",
    "longitud"
   ]
  },
  {
   "cell_type": "markdown",
   "id": "52c79636-19b0-47ae-a47d-52c6ef1896af",
   "metadata": {},
   "source": [
    "Se hizo uso del método \"len()\" que indica cuantos elementos hay dentro de la tupla. En este caso, se encontro que la tupla \"genres_tuple\" cuenta con 8 elementos. "
   ]
  },
  {
   "cell_type": "markdown",
   "id": "6443fee6-71cf-40c4-b8ca-998d2ac1ce29",
   "metadata": {},
   "source": [
    "### Accede al elemento en el índice 3:"
   ]
  },
  {
   "cell_type": "code",
   "execution_count": 28,
   "id": "6382a441-04f4-4f6a-9bf4-abac96ca6c91",
   "metadata": {},
   "outputs": [
    {
     "data": {
      "text/plain": [
       "'soul'"
      ]
     },
     "execution_count": 28,
     "metadata": {},
     "output_type": "execute_result"
    }
   ],
   "source": [
    "genres_tuple[2]"
   ]
  },
  {
   "cell_type": "markdown",
   "id": "7cdae5d8-c082-42bf-b2a8-ead873faaa50",
   "metadata": {},
   "source": [
    "Se muestra el genero \"soul\" al encontrarse en la posición del indice 3."
   ]
  },
  {
   "cell_type": "markdown",
   "id": "98357450-0ee5-47b7-81e4-8846c00e492d",
   "metadata": {},
   "source": [
    "### Utiliza el slicing para obtener los índices 3, 4 y 5:"
   ]
  },
  {
   "cell_type": "code",
   "execution_count": 24,
   "id": "bbcf52fe-1abd-4203-9e71-8be201ce4d5d",
   "metadata": {},
   "outputs": [
    {
     "data": {
      "text/plain": [
       "('hard rock', 'soft rock', 'R&B')"
      ]
     },
     "execution_count": 24,
     "metadata": {},
     "output_type": "execute_result"
    }
   ],
   "source": [
    "tuple2 = genres_tuple[3:6]\n",
    "tuple2"
   ]
  },
  {
   "cell_type": "markdown",
   "id": "053d08f8-2e1a-4ebb-81ab-00eff2369d63",
   "metadata": {},
   "source": [
    "Se mostro los elementos en las posiciones 3, 4 y 5 usando \"Slice\" para acceder a estos elementos."
   ]
  },
  {
   "cell_type": "markdown",
   "id": "bbe25dd6-5b34-4ca8-ae11-c1ebd0c90ef1",
   "metadata": {},
   "source": [
    "### Encuentra los primeros dos elementos de la tupla genres_tuple:"
   ]
  },
  {
   "cell_type": "code",
   "execution_count": 26,
   "id": "4dd7bf4f-5867-422f-be96-ca3c868ecb97",
   "metadata": {},
   "outputs": [
    {
     "data": {
      "text/plain": [
       "('pop', 'rock')"
      ]
     },
     "execution_count": 26,
     "metadata": {},
     "output_type": "execute_result"
    }
   ],
   "source": [
    "tuple3 = genres_tuple[:2]\n",
    "tuple3"
   ]
  },
  {
   "cell_type": "markdown",
   "id": "070db1f1-b156-4d6b-8b03-fe174173eb10",
   "metadata": {},
   "source": [
    "Como en el caso anterior, se creo una nueva tupla que contiene los primeros dos elementos de genres_tuple los cuales son \"pop\" y \"rock\""
   ]
  },
  {
   "cell_type": "markdown",
   "id": "4ac3771e-88a0-4944-8a80-3f127f54e4d7",
   "metadata": {},
   "source": [
    "### Encuentra el primer índice de \"disco\""
   ]
  },
  {
   "cell_type": "code",
   "execution_count": 27,
   "id": "fd1084d7-029e-470d-ae3a-5899555ab8ce",
   "metadata": {},
   "outputs": [
    {
     "data": {
      "text/plain": [
       "7"
      ]
     },
     "execution_count": 27,
     "metadata": {},
     "output_type": "execute_result"
    }
   ],
   "source": [
    "genres_tuple.index(\"disco\")"
   ]
  },
  {
   "cell_type": "markdown",
   "id": "75b203ea-5bee-4a0c-8fbe-b968c14c125d",
   "metadata": {},
   "source": [
    "Se hizo uso del método \".index()\" para encontrar el primer indice del elemento \"disco\" dentro de la tupla \"genres_tuple\"."
   ]
  },
  {
   "cell_type": "markdown",
   "id": "82f97060-a447-473b-815b-4de8ae138634",
   "metadata": {},
   "source": [
    "## Genera una lista ordenada desde la tupla C_tuple=(-5, 1, -3):\n"
   ]
  },
  {
   "cell_type": "code",
   "execution_count": 29,
   "id": "36d913e9-da58-4445-ad4e-17b11128c2bc",
   "metadata": {},
   "outputs": [
    {
     "data": {
      "text/plain": [
       "[-5, -3, 1]"
      ]
     },
     "execution_count": 29,
     "metadata": {},
     "output_type": "execute_result"
    }
   ],
   "source": [
    "C_tuple=(-5, 1, -3)\n",
    "orden = sorted(C_tuple)\n",
    "orden"
   ]
  },
  {
   "cell_type": "markdown",
   "id": "6abaa22a-c54e-49fa-8833-7c73cf77f66f",
   "metadata": {},
   "source": [
    "Se uso el método \"sorted()\" para ordenar de menor a myor la tupla dada."
   ]
  },
  {
   "cell_type": "markdown",
   "id": "1e99ef7e-e6db-45a6-881b-36945c2e1eab",
   "metadata": {},
   "source": [
    "---"
   ]
  },
  {
   "cell_type": "markdown",
   "id": "d57728d5-e448-4559-a36f-d4e471adaff4",
   "metadata": {},
   "source": [
    "# Respuestas Tercer Cuestionario - Listas"
   ]
  },
  {
   "cell_type": "markdown",
   "id": "82598b3e-b666-48e7-ba85-7d8cb295fa4f",
   "metadata": {},
   "source": [
    "## Crea una lista a_lit con los siguientes elementos 1, hello, [1,2,3] y True"
   ]
  },
  {
   "cell_type": "code",
   "execution_count": 30,
   "id": "5f59effb-a926-403c-9a8b-51c9415a0ead",
   "metadata": {},
   "outputs": [],
   "source": [
    "a_lit= [1, \"Hello\", [1, 2, 3], True]"
   ]
  },
  {
   "cell_type": "markdown",
   "id": "6a5ba081-d412-46e9-b240-3c65e1cc1117",
   "metadata": {},
   "source": [
    "### Encuentra el valor almacenado en el índice 1 de a_lit"
   ]
  },
  {
   "cell_type": "code",
   "execution_count": 31,
   "id": "3ca6700d-2c49-40ed-a025-49db1fa69a38",
   "metadata": {},
   "outputs": [
    {
     "data": {
      "text/plain": [
       "'Hello'"
      ]
     },
     "execution_count": 31,
     "metadata": {},
     "output_type": "execute_result"
    }
   ],
   "source": [
    "a_lit[1]"
   ]
  },
  {
   "cell_type": "markdown",
   "id": "25ae271d-58cb-44cb-a2aa-bff95616f6d7",
   "metadata": {},
   "source": [
    "Se busco el elemento en la posición del índice 1 de la lista"
   ]
  },
  {
   "cell_type": "markdown",
   "id": "4a7d9098-e8d7-4c76-96de-c098f4bdd9df",
   "metadata": {},
   "source": [
    "### Obtén el elemento almacenado en el índice 1, 2 y 3 de a_lit"
   ]
  },
  {
   "cell_type": "code",
   "execution_count": 32,
   "id": "abdaa753-ddf5-4250-99b3-9d1ad501f3a3",
   "metadata": {},
   "outputs": [
    {
     "data": {
      "text/plain": [
       "['Hello', [1, 2, 3], True]"
      ]
     },
     "execution_count": 32,
     "metadata": {},
     "output_type": "execute_result"
    }
   ],
   "source": [
    "a_lit[1:4]"
   ]
  },
  {
   "cell_type": "markdown",
   "id": "ff26ec1f-d9ad-4562-b2d4-068c10e7f64e",
   "metadata": {},
   "source": [
    "Se uso el metodo \"slicing\" para acceder a los indices 1, 2 y 3. Recordando que de esta forma se esta tomando en cuenta que el primer número (1) es el índice de inicio. Y el segundo número (4) es el índice de fin. Esto significa que obtendremos los elementos desde el índice 1 hasta el 3, ya que el 4 no se incluye."
   ]
  },
  {
   "cell_type": "markdown",
   "id": "d8037383-0afe-425b-9801-d4069c0142af",
   "metadata": {},
   "source": [
    "## Concatena las siguientes listas A = [1, 'a'] y B = [2, 1, 'd']:"
   ]
  },
  {
   "cell_type": "code",
   "execution_count": 33,
   "id": "3cea1910-f3dd-44cc-85d1-c672ed0f2008",
   "metadata": {},
   "outputs": [
    {
     "name": "stdout",
     "output_type": "stream",
     "text": [
      "[1, 'a', 2, 1, 'd']\n"
     ]
    }
   ],
   "source": [
    "A = [1, 'a']\n",
    "B = [2, 1, 'd']\n",
    "C = A + B\n",
    "print(C)"
   ]
  },
  {
   "cell_type": "markdown",
   "id": "7433051a-ab83-4820-8ab3-e92c3ff4e44e",
   "metadata": {},
   "source": [
    "Se uso el operador lógico '+' para unir los elementos de ambas listas en una sola"
   ]
  },
  {
   "cell_type": "markdown",
   "id": "92071190-6062-44d3-af95-50a3ca2c622c",
   "metadata": {},
   "source": [
    "---"
   ]
  },
  {
   "cell_type": "markdown",
   "id": "a3770c90-b242-4c18-a28b-ac99de88d66c",
   "metadata": {},
   "source": [
    "# Respuestas Cuarto Cuestionario - Conjuntos"
   ]
  },
  {
   "cell_type": "markdown",
   "id": "763ec431-ee48-43dc-b5e0-c0cdb91e0f28",
   "metadata": {},
   "source": [
    "## Transformar la lista ['rap','house','electronic music', 'rap'] en un conjunto:"
   ]
  },
  {
   "cell_type": "code",
   "execution_count": 34,
   "id": "95eee8c5-876f-4a03-b8a1-2f0e369f2be7",
   "metadata": {},
   "outputs": [
    {
     "data": {
      "text/plain": [
       "{' electronic music', 'house', 'rap'}"
      ]
     },
     "execution_count": 34,
     "metadata": {},
     "output_type": "execute_result"
    }
   ],
   "source": [
    "genre_list = ['rap', 'house', ' electronic music', 'rap']\n",
    "genre_set = set(genre_list)\n",
    "genre_set"
   ]
  },
  {
   "cell_type": "markdown",
   "id": "6bd4cd1b-a2df-47e2-b869-3cd8a62d104f",
   "metadata": {},
   "source": [
    "Se uso el método \"set()\" para convertir la lista inicial dada en un conjunto con los mismos elementos de la lista."
   ]
  },
  {
   "cell_type": "code",
   "execution_count": 35,
   "id": "2271fccf-4e08-4c91-8517-86bad4b69177",
   "metadata": {},
   "outputs": [],
   "source": [
    "A = [1, 2, 2, 1]\n",
    "B = set([1, 2, 2, 1])"
   ]
  },
  {
   "cell_type": "code",
   "execution_count": 36,
   "id": "3a92a6ff-2fec-403c-81d3-75ef5fc1f198",
   "metadata": {},
   "outputs": [
    {
     "name": "stdout",
     "output_type": "stream",
     "text": [
      "6\n",
      "3\n"
     ]
    }
   ],
   "source": [
    "print(sum(A))\n",
    "print(sum(B))"
   ]
  },
  {
   "cell_type": "markdown",
   "id": "b8c40b82-e9a3-4b5c-9a7e-8df62fde3853",
   "metadata": {},
   "source": [
    "El conjunto B, al usar set, elimina los elementos repetidos por lo que la suma da 3. Sin embargo, la suma de la lista da 6. Decir que sum(A) = sum(B) no es correcta."
   ]
  },
  {
   "cell_type": "markdown",
   "id": "83481350-7080-4e2b-a0e2-94fa208c0eac",
   "metadata": {},
   "source": [
    "## Crea un nuevo conjunto album_set3 que sea la unión de album_set1 y album_set2:\n"
   ]
  },
  {
   "cell_type": "code",
   "execution_count": 37,
   "id": "14df035b-f71b-4690-b875-af64d51bd26b",
   "metadata": {},
   "outputs": [
    {
     "data": {
      "text/plain": [
       "{'AC/DC', 'Back in Black', 'The Dark Side of the Moon', 'Thriller'}"
      ]
     },
     "execution_count": 37,
     "metadata": {},
     "output_type": "execute_result"
    }
   ],
   "source": [
    "album_set1 = set([\"Thriller\", 'AC/DC', 'Back in Black'])\n",
    "album_set2 = set([ \"AC/DC\", \"Back in Black\", \"The Dark Side of the Moon\"])\n",
    "album_set3 = album_set1.union(album_set2)\n",
    "album_set3"
   ]
  },
  {
   "cell_type": "markdown",
   "id": "cae6e041-46a1-4da2-bc97-01aaef25a3d1",
   "metadata": {},
   "source": [
    "Se uso el metodo \".union()\" para indicar que se realice una unión entre ambos conjuntos"
   ]
  },
  {
   "cell_type": "markdown",
   "id": "28163d15-906c-423f-9188-49e032b975f1",
   "metadata": {},
   "source": [
    "## Averigua si album_set1 es un subconjunto de album_set3: "
   ]
  },
  {
   "cell_type": "code",
   "execution_count": 38,
   "id": "20a2ec5b-4259-4fb9-810a-1b64614f894c",
   "metadata": {},
   "outputs": [
    {
     "data": {
      "text/plain": [
       "True"
      ]
     },
     "execution_count": 38,
     "metadata": {},
     "output_type": "execute_result"
    }
   ],
   "source": [
    "set(album_set1).issubset(album_set3)"
   ]
  },
  {
   "cell_type": "markdown",
   "id": "ede23512-30d8-40a3-a635-3aef2e5a773c",
   "metadata": {},
   "source": [
    "---"
   ]
  },
  {
   "cell_type": "markdown",
   "id": "c6611652-59d0-4bbb-87d8-8b867cb355f6",
   "metadata": {},
   "source": [
    "# Respuestas Cuestionario 5 - Diccionario"
   ]
  },
  {
   "cell_type": "markdown",
   "id": "135aad00-3508-4193-85ba-e6d63cffd009",
   "metadata": {},
   "source": [
    "## Necesitarás este diccionario para las siguientes dos preguntas:"
   ]
  },
  {
   "cell_type": "code",
   "execution_count": 39,
   "id": "0cf9d315-e8ec-4c39-a0e8-74bb141d179b",
   "metadata": {},
   "outputs": [
    {
     "data": {
      "text/plain": [
       "{'The Bodyguard': '1992', 'Saturday Night Fever': '1977'}"
      ]
     },
     "execution_count": 39,
     "metadata": {},
     "output_type": "execute_result"
    }
   ],
   "source": [
    "soundtrack_dic = {\"The Bodyguard\":\"1992\", \"Saturday Night Fever\":\"1977\"}\n",
    "soundtrack_dic"
   ]
  },
  {
   "cell_type": "markdown",
   "id": "8705f668-f236-4f91-b6ad-60783a064c3c",
   "metadata": {},
   "source": [
    "## a) En el diccionario soundtrack_dict. ¿Cuáles son las llaves?"
   ]
  },
  {
   "cell_type": "code",
   "execution_count": 40,
   "id": "6ba3c3cc-a13e-4f26-b179-6312775d8139",
   "metadata": {},
   "outputs": [
    {
     "data": {
      "text/plain": [
       "dict_keys(['The Bodyguard', 'Saturday Night Fever'])"
      ]
     },
     "execution_count": 40,
     "metadata": {},
     "output_type": "execute_result"
    }
   ],
   "source": [
    "soundtrack_dic.keys()"
   ]
  },
  {
   "cell_type": "markdown",
   "id": "b2485743-2b70-4193-a473-a398565a3d23",
   "metadata": {},
   "source": [
    "Se encontro que las llaves del diccionario son 'The Bodyguard', 'Saturday Night Fever'. Las llaves son los indices para acceder a los valores que componen el diccionario"
   ]
  },
  {
   "cell_type": "markdown",
   "id": "e1079c8f-de60-4a9f-acdd-1fb2563b50a1",
   "metadata": {},
   "source": [
    "## b) En el diccionario soundtrack_dict. ¿Cuáles son los valores?"
   ]
  },
  {
   "cell_type": "code",
   "execution_count": 41,
   "id": "161c9140-c7a9-466b-8bba-7d0eb433b826",
   "metadata": {},
   "outputs": [
    {
     "data": {
      "text/plain": [
       "dict_values(['1992', '1977'])"
      ]
     },
     "execution_count": 41,
     "metadata": {},
     "output_type": "execute_result"
    }
   ],
   "source": [
    "soundtrack_dic.values()"
   ]
  },
  {
   "cell_type": "markdown",
   "id": "0f8def83-fa99-49e4-943b-6009928a4832",
   "metadata": {},
   "source": [
    "En este caso, los valores son '1992', '1977' que es lo que guardan las llaves"
   ]
  },
  {
   "cell_type": "markdown",
   "id": "42416714-d05a-4d0a-8384-2646c4850ffc",
   "metadata": {},
   "source": [
    "## Necesitarás este diccionario para las siguientes preguntas:"
   ]
  },
  {
   "cell_type": "markdown",
   "id": "894d5278-dace-485e-a7ba-fa55f7c497e9",
   "metadata": {},
   "source": [
    "### Los discos Back in Black, The Bodyguard y Thriller poseen el siguiente record de ventas en millones, 50, 50 y 65 respectivamente:"
   ]
  },
  {
   "cell_type": "markdown",
   "id": "697cdb42-57fb-411d-9f3f-95769592ab08",
   "metadata": {},
   "source": [
    "#### a) Crea un diccionario album_sales_dict donde las llaves sean el nombre del disco y los valores la cantidad de ventas en millones."
   ]
  },
  {
   "cell_type": "code",
   "execution_count": 43,
   "id": "3cb3bba1-d7a6-47e7-b0a4-841cecedebef",
   "metadata": {},
   "outputs": [
    {
     "data": {
      "text/plain": [
       "{'Back in Black': '50', 'The Bodyguard': '50', 'Thriller': '65'}"
      ]
     },
     "execution_count": 43,
     "metadata": {},
     "output_type": "execute_result"
    }
   ],
   "source": [
    "album_sales_dict = {\"Back in Black\": \"50\", \"The Bodyguard\": \"50\", \"Thriller\":\"65\"}\n",
    "album_sales_dict"
   ]
  },
  {
   "cell_type": "markdown",
   "id": "0b81a682-1f8b-4918-bb74-45c7091d96cd",
   "metadata": {},
   "source": [
    "#### b) Usa el diccionario para encontrar las ventas totales de Thriller:"
   ]
  },
  {
   "cell_type": "code",
   "execution_count": 44,
   "id": "61df158c-57e4-4ea8-97f6-b24de7ed7d9b",
   "metadata": {},
   "outputs": [
    {
     "data": {
      "text/plain": [
       "'65'"
      ]
     },
     "execution_count": 44,
     "metadata": {},
     "output_type": "execute_result"
    }
   ],
   "source": [
    "album_sales_dict['Thriller']"
   ]
  },
  {
   "cell_type": "markdown",
   "id": "dee28160-aea5-414d-b8d5-62f013152ce7",
   "metadata": {},
   "source": [
    "Para encontrar el valor de una llave dentro del diccionario se accede a la posición de esta y mostrara el valor asignado, en este caso las ventas totales por el disco Thriller es de 65 millones"
   ]
  },
  {
   "cell_type": "markdown",
   "id": "a830d6ae-ccd9-4e04-bfb2-14c4612ca0b5",
   "metadata": {},
   "source": [
    "#### c) Encuentra los nombres de los discos dentro del diccionario mediante el método keys"
   ]
  },
  {
   "cell_type": "code",
   "execution_count": 45,
   "id": "763aee61-257e-43fb-8897-6053fa161850",
   "metadata": {},
   "outputs": [
    {
     "data": {
      "text/plain": [
       "dict_keys(['Back in Black', 'The Bodyguard', 'Thriller'])"
      ]
     },
     "execution_count": 45,
     "metadata": {},
     "output_type": "execute_result"
    }
   ],
   "source": [
    "album_sales_dict.keys()"
   ]
  },
  {
   "cell_type": "markdown",
   "id": "bfb11146-a3f8-4ad4-ac2b-b900463050a3",
   "metadata": {},
   "source": [
    "Se uso el metodo \".keys()\" para encontrar los nombres de los discos dentro del diccionario creado"
   ]
  },
  {
   "cell_type": "markdown",
   "id": "3a1178d9-7a73-467e-9457-9303df39418e",
   "metadata": {},
   "source": [
    "#### d) Encuentra los records de ventas dentro del diccionario mediante el método values:"
   ]
  },
  {
   "cell_type": "code",
   "execution_count": 46,
   "id": "f1ff6f44-3a3c-4c90-850a-ed8bb989680d",
   "metadata": {},
   "outputs": [
    {
     "data": {
      "text/plain": [
       "dict_values(['50', '50', '65'])"
      ]
     },
     "execution_count": 46,
     "metadata": {},
     "output_type": "execute_result"
    }
   ],
   "source": [
    "album_sales_dict.values()"
   ]
  },
  {
   "cell_type": "markdown",
   "id": "a8b43903-c63f-4986-9e9d-4b23e00aad37",
   "metadata": {},
   "source": [
    "Se uso el método \".values()\" para encontrar los records de ventas de cada album dentro del diccionario."
   ]
  },
  {
   "cell_type": "markdown",
   "id": "0da89209-2d33-415d-9d00-1ddb8039cc69",
   "metadata": {},
   "source": [
    "---"
   ]
  },
  {
   "cell_type": "markdown",
   "id": "2d570ee5-fa0c-487a-a866-46281261cd66",
   "metadata": {},
   "source": [
    "# Respuestas Sexto Cuestionario - Condiciones"
   ]
  },
  {
   "cell_type": "markdown",
   "id": "960c88f6-b73e-4669-b652-c5fabb9a4e4f",
   "metadata": {},
   "source": [
    "### Escribe una declaración if que determine si un disco musical tiene una calificación mayor a 8. Compruébalo utilizando el calificación del disco “Back in Black” el cual tiene un valor de 8.5. Si la condición es verdadera, imprime “\"This album is Amazing!\"”"
   ]
  },
  {
   "cell_type": "code",
   "execution_count": 48,
   "id": "e3d599db-1788-40d4-a6e5-c4a881458dbe",
   "metadata": {},
   "outputs": [
    {
     "name": "stdout",
     "output_type": "stream",
     "text": [
      "This album is Amazing!\n"
     ]
    }
   ],
   "source": [
    "album_BB = 8.5\n",
    "if (album_BB > 8):\n",
    "    print(\"This album is Amazing!\")"
   ]
  },
  {
   "cell_type": "markdown",
   "id": "0997fda8-ec26-448a-a459-e91f9bddb86a",
   "metadata": {},
   "source": [
    "Se comprobo que el album “Back in Black” tiene una puntuación mayor a 8.5 por lo que la condicion es verdadera"
   ]
  },
  {
   "cell_type": "markdown",
   "id": "acb0a55a-907e-46fc-ba19-f9662a64244c",
   "metadata": {},
   "source": [
    "### Escribe una declaración if-else que determine lo siguiente. Si la calificación es mayor que 8 imprime “this album is amazing”. Si es menor o igual a 8 que imprima “this album is ok”."
   ]
  },
  {
   "cell_type": "code",
   "execution_count": 49,
   "id": "97832cb7-743e-4bda-9bfd-024c467ac81f",
   "metadata": {},
   "outputs": [
    {
     "name": "stdout",
     "output_type": "stream",
     "text": [
      "this album is ok\n"
     ]
    }
   ],
   "source": [
    "calificacion = 6\n",
    "\n",
    "if (calificacion > 8):\n",
    "    print(\"this album is amazing\")\n",
    "else:\n",
    "    print(\"this album is ok\")"
   ]
  },
  {
   "cell_type": "markdown",
   "id": "dacdfe41-560e-4981-8d2e-2738968f0fbd",
   "metadata": {},
   "source": [
    "La declaración escrita anteriormente determina si la calificación del album es buena o excelente dependiendo del valor que se le asigne."
   ]
  },
  {
   "cell_type": "markdown",
   "id": "230e7022-55b1-44df-82eb-e8ddccff9029",
   "metadata": {},
   "source": [
    "### Escribe una declaración if que determine si un disco fue lanzado antes de 1980 o en los años 1991 o 1993. Si la condición es verdadera imprime el año de lanzamiento"
   ]
  },
  {
   "cell_type": "code",
   "execution_count": 50,
   "id": "f292fe29-0f4a-4642-b324-cba55a6a61b6",
   "metadata": {},
   "outputs": [
    {
     "name": "stdout",
     "output_type": "stream",
     "text": [
      "El album no fue hecho en 1980\n"
     ]
    }
   ],
   "source": [
    "año = 1993\n",
    "if (año < 1980) or año in [1991, 1993]:\n",
    "    print(\"El album no fue hecho en 1980\")\n",
    "else:\n",
    "    print(\"El album fue hecho en 1980\")"
   ]
  },
  {
   "cell_type": "markdown",
   "id": "bf1010c6-540c-4a53-a331-06488e4529b2",
   "metadata": {},
   "source": [
    "De acuerdo al año del album que se quiere comprobar, esta declaración determinara si fue hecho en esa fecha o en otra."
   ]
  },
  {
   "cell_type": "markdown",
   "id": "45f606b0-2284-422a-b889-f617350146d4",
   "metadata": {},
   "source": [
    "---"
   ]
  },
  {
   "cell_type": "markdown",
   "id": "b521251a-04c1-43d1-a8bd-66fce2e5dac1",
   "metadata": {},
   "source": [
    "# Respuestas Septimo Cuestionario - Bucles"
   ]
  },
  {
   "cell_type": "markdown",
   "id": "4104e054-3d40-411d-9f50-f3ac0d37ac3b",
   "metadata": {},
   "source": [
    "## Escribe un bucle for que imprima todos los elementos entre -5 y 5 usando la función range."
   ]
  },
  {
   "cell_type": "code",
   "execution_count": 51,
   "id": "080a3ae6-42ab-45ea-a990-00891077e51c",
   "metadata": {},
   "outputs": [
    {
     "name": "stdout",
     "output_type": "stream",
     "text": [
      "-5\n",
      "-4\n",
      "-3\n",
      "-2\n",
      "-1\n",
      "0\n",
      "1\n",
      "2\n",
      "3\n",
      "4\n"
     ]
    }
   ],
   "source": [
    "for i in range(-5, 5):\n",
    "    print(i)"
   ]
  },
  {
   "cell_type": "markdown",
   "id": "b2ab4c76-443a-484b-8276-f56708f42ddc",
   "metadata": {},
   "source": [
    "Con el método \"range()\", podemos ejecutar un bucle que funcione desde el -5 hasta el 5. No se muestra el 5 porque empieza desde 0."
   ]
  },
  {
   "cell_type": "markdown",
   "id": "2f2beb13-7fb5-4e8b-a18f-472c8f10257b",
   "metadata": {},
   "source": [
    "## Imprime los elementos de la siguiente lista: Genres=[ 'rock', 'R&B', 'Soundtrack', 'R&B', 'soul', 'pop'] Y asegúrate de seguir las convenciones del lenguaje Python"
   ]
  },
  {
   "cell_type": "code",
   "execution_count": 52,
   "id": "a3252cf8-1d85-472a-981a-f5e46d80af11",
   "metadata": {},
   "outputs": [
    {
     "data": {
      "text/plain": [
       "['rock', 'R&B', 'Soundtrack', 'R&B', 'soul', 'pop']"
      ]
     },
     "execution_count": 52,
     "metadata": {},
     "output_type": "execute_result"
    }
   ],
   "source": [
    "Genres=[ 'rock', 'R&B', 'Soundtrack', 'R&B', 'soul', 'pop'] \n",
    "Genres"
   ]
  },
  {
   "cell_type": "markdown",
   "id": "dbd76bc1-6d12-48ee-9a30-bda51a27b8c9",
   "metadata": {},
   "source": [
    "## Escribe un bucle for que imprima la siguiente lista: squares=['red', 'yellow', 'green', 'purple', 'blue']"
   ]
  },
  {
   "cell_type": "code",
   "execution_count": 53,
   "id": "9e213692-b51c-4869-8ae3-ba3ecfa78883",
   "metadata": {},
   "outputs": [
    {
     "name": "stdout",
     "output_type": "stream",
     "text": [
      "red\n",
      "yellow\n",
      "green\n",
      "purple\n",
      "blue\n"
     ]
    }
   ],
   "source": [
    "squares=['red', 'yellow', 'green', 'purple', 'blue']\n",
    "\n",
    "for n in squares:\n",
    "    print(n)"
   ]
  },
  {
   "cell_type": "markdown",
   "id": "ed7091de-b011-4939-b47b-e1f4c8f588a3",
   "metadata": {},
   "source": [
    "Se declara la lista que queremos imprimir en bucle. Luego se llama dentro del bucle para realizar el procedimiento correcto"
   ]
  },
  {
   "cell_type": "markdown",
   "id": "e9baa59f-5a6e-4491-a017-aa909891d6a3",
   "metadata": {},
   "source": [
    "### Escribe un bucle while que muestre los valores de la calificación de las canciones de un disco almacenados en la lista PlayListRatings. Si la calificación es menor a 6, sal del bucle. La lista PlayListRatings esta compuesta por: PlayListRatings = [10, 9.5, 10, 8, 7.5, 5, 10, 10]"
   ]
  },
  {
   "cell_type": "code",
   "execution_count": 55,
   "id": "d85a138a-b593-45bf-a9c3-b436f5a1beb7",
   "metadata": {},
   "outputs": [
    {
     "name": "stdout",
     "output_type": "stream",
     "text": [
      "10\n",
      "9.5\n",
      "10\n",
      "8\n",
      "7.5\n"
     ]
    }
   ],
   "source": [
    "PlayListRatings = [10, 9.5, 10, 8, 7.5, 5, 10, 10]\n",
    "i = 0\n",
    "while i < len(PlayListRatings):\n",
    "    if PlayListRatings[i] < 6:\n",
    "        break\n",
    "    print(PlayListRatings[i])\n",
    "    i += 1"
   ]
  },
  {
   "cell_type": "markdown",
   "id": "9b95acb2-8693-4990-9e92-dc31d5bfac72",
   "metadata": {},
   "source": [
    "En cada iteración: Se Comprueba si la calificación actual es menor que 6. Si es menor que 6, usamos break para salir del bucle. Si no, imprimimos la calificación actual. Incrementamos i en 1 para pasar a la siguiente calificación."
   ]
  },
  {
   "cell_type": "markdown",
   "id": "d9e67540-b54c-42bf-a065-1931f057c5a5",
   "metadata": {},
   "source": [
    "### Escribe un bucle while que copie las cadenas 'orange' de la lista squares a la lista new_squares. Detente y sal del ciclo si el valor en la lista no es 'orange':"
   ]
  },
  {
   "cell_type": "code",
   "execution_count": null,
   "id": "0fef620d-231d-4c06-9210-19dd2edc2ba5",
   "metadata": {},
   "outputs": [],
   "source": [
    "squares = ['orange', 'orange', 'purple', 'blue', 'orange']\n",
    "new_squares = []\n",
    "\n",
    "i = 0\n",
    "while i < len(squares) and squares[i] == 'orange':\n",
    "    new_squares.append(squares[i])\n",
    "    i += 1\n",
    "\n",
    "print(new_squares)"
   ]
  },
  {
   "cell_type": "markdown",
   "id": "01e83e22-83cc-49dc-919f-d30974b6f42f",
   "metadata": {},
   "source": [
    "Este código copia elementos 'orange' de la lista squares a new_squares usando un bucle while. La condición \"i < len(squares) and squares[i] == 'orange'\" asegura que el bucle se detenga cuando se alcance el final de la lista o se encuentre un elemento que no sea 'orange'"
   ]
  },
  {
   "cell_type": "markdown",
   "id": "7e14bf77-6be5-4397-a59b-26eaef3acb99",
   "metadata": {},
   "source": [
    "---"
   ]
  },
  {
   "cell_type": "markdown",
   "id": "a5724199-adda-4b70-a51a-4d1c836a5296",
   "metadata": {},
   "source": [
    "# Respuestas Octavo Cuestionario - Funciones"
   ]
  },
  {
   "cell_type": "markdown",
   "id": "f8a2657d-73b2-411d-b0af-6b5ee45867fd",
   "metadata": {},
   "source": [
    "## Cree una función que divida la primera entrada por la segunda entrada:"
   ]
  },
  {
   "cell_type": "code",
   "execution_count": 57,
   "id": "c49d2663-7bf0-487b-a729-accff1516cfa",
   "metadata": {},
   "outputs": [
    {
     "name": "stdout",
     "output_type": "stream",
     "text": [
      "5.0\n"
     ]
    }
   ],
   "source": [
    "def dividir(a, b):\n",
    "    if b != 0:\n",
    "        return a / b\n",
    "    else:\n",
    "        return \"Error: No se puede dividir por cero\"\n",
    "\n",
    "resultado = dividir(10, 2)\n",
    "print(resultado)"
   ]
  },
  {
   "cell_type": "markdown",
   "id": "38561e0f-ced7-4c47-873e-3573c8f9eaa6",
   "metadata": {},
   "source": [
    "Esta función toma dos argumentos, a y b, y devuelve el resultado de a dividido por b."
   ]
  },
  {
   "cell_type": "markdown",
   "id": "22f2e527-19fd-403f-8701-1c6585ebc773",
   "metadata": {},
   "source": [
    "## Utilice la función con para la siguiente pregunta."
   ]
  },
  {
   "cell_type": "code",
   "execution_count": 59,
   "id": "8af5927e-f025-4b1a-a9a0-d5c53290563b",
   "metadata": {},
   "outputs": [],
   "source": [
    "def con(a, b):\n",
    "    return(a + b)"
   ]
  },
  {
   "cell_type": "markdown",
   "id": "540fdb88-a6a5-4a6e-a498-e33e9d1c788c",
   "metadata": {},
   "source": [
    "### ¿Se puede usar la función con que definimos antes para agregar números enteros o cadenas?"
   ]
  },
  {
   "cell_type": "code",
   "execution_count": 60,
   "id": "928052ad-4eaa-48e8-844e-1087d4655918",
   "metadata": {},
   "outputs": [
    {
     "name": "stdout",
     "output_type": "stream",
     "text": [
      "7\n"
     ]
    }
   ],
   "source": [
    "resultado = con(3, 4)\n",
    "print(resultado)"
   ]
  },
  {
   "cell_type": "code",
   "execution_count": 61,
   "id": "8042757a-80b7-475f-b6fc-73275ca3a90d",
   "metadata": {},
   "outputs": [
    {
     "name": "stdout",
     "output_type": "stream",
     "text": [
      "Hola mundo\n"
     ]
    }
   ],
   "source": [
    "resultado = con(\"Hola \", \"mundo\")\n",
    "print(resultado)"
   ]
  },
  {
   "cell_type": "markdown",
   "id": "fad4b4c3-4d97-425f-ae84-a281f8d179f8",
   "metadata": {},
   "source": [
    "La función con simplemente usa el operador +, que en Python tiene diferentes comportamientos dependiendo del tipo de datos: Con números, realiza una suma aritmética. Con cadenas, realiza una concatenación"
   ]
  },
  {
   "cell_type": "markdown",
   "id": "5e93cec7-60a3-4662-9cc8-d7a8b2e5f9bf",
   "metadata": {},
   "source": [
    "### ¿Se puede usar la función con que definimos antes para concentrar una lista o tupla?"
   ]
  },
  {
   "cell_type": "code",
   "execution_count": 62,
   "id": "48c5e8f1-bf2c-40f5-84b5-09823e76a9ca",
   "metadata": {},
   "outputs": [
    {
     "name": "stdout",
     "output_type": "stream",
     "text": [
      "[1, 2, 3, 4, 5, 6]\n",
      "(1, 2, 3, 4, 5, 6)\n"
     ]
    }
   ],
   "source": [
    "# Para listas\n",
    "lista1 = [1, 2, 3]\n",
    "lista2 = [4, 5, 6]\n",
    "resultado_lista = con(lista1, lista2)\n",
    "print(resultado_lista)\n",
    "\n",
    "# Para tuplas\n",
    "tupla1 = (1, 2, 3)\n",
    "tupla2 = (4, 5, 6)\n",
    "resultado_tupla = con(tupla1, tupla2)\n",
    "print(resultado_tupla)"
   ]
  },
  {
   "cell_type": "markdown",
   "id": "545eb085-44f9-4161-9410-00b0a81b5839",
   "metadata": {},
   "source": [
    "\n",
    "La funcion \"con\" funcionará correctamente para listas y tuplas debido a que en Python la operación + se define para estas estructuras de datos como la concatenación"
   ]
  },
  {
   "cell_type": "markdown",
   "id": "f99a767c-b2c6-4a20-a9a2-5769df461ce5",
   "metadata": {},
   "source": [
    "---"
   ]
  },
  {
   "cell_type": "markdown",
   "id": "2a44e229-f3e9-47d8-8213-812edf9f0423",
   "metadata": {},
   "source": [
    "# Respuestas Cuestionario 9 - Objetos"
   ]
  },
  {
   "cell_type": "markdown",
   "id": "d451e6cc-f050-4643-adc9-4add3cab326a",
   "metadata": {},
   "source": [
    "## La clase matplotlib.patches.Ellipse, permite dibujar elipses desde matplotlib. La clase se importa de la siguiente manera:\n",
    "from matplotlib.patchs import Ellipse\n",
    "\n",
    "Se puede dibujar entonces cualquier elipse, dando los argumentos:\n",
    "\n",
    "plt.gca().add_patch(Ellipse(xy, width, height, facecolor = color, edgecolor = edgecolor))\n",
    "\n",
    "Se requiere crear una clase Elipse, la cual el constructor sea con valores iniciales cualesquiera. Adicionalmente, la clase debe tener los siguientes métodos:\n",
    "\n",
    "1.- Cambiar el ancho\n",
    "\n",
    "2.- Cambiar el alto\n",
    "\n",
    "3.- Cambiar el color de relleno\n",
    "\n",
    "4.- Cambiar el color de borde\n",
    "\n",
    "5.- Dibujar"
   ]
  },
  {
   "cell_type": "code",
   "execution_count": 10,
   "id": "5e02a6c6-1528-4a73-9cf6-939a59659915",
   "metadata": {},
   "outputs": [],
   "source": [
    "# Importamos las librerias necesarias\n",
    "from matplotlib.patches import Ellipse\n",
    "import matplotlib.pyplot as plt"
   ]
  },
  {
   "cell_type": "code",
   "execution_count": 17,
   "id": "2a866b86-f82f-4d60-9b3a-dab876e0b531",
   "metadata": {},
   "outputs": [
    {
     "name": "stdout",
     "output_type": "stream",
     "text": [
      "ANTES\n"
     ]
    },
    {
     "data": {
      "image/png": "[encoded data removed]",
      "text/plain": [
       "<Figure size 640x480 with 1 Axes>"
      ]
     },
     "metadata": {},
     "output_type": "display_data"
    },
    {
     "name": "stdout",
     "output_type": "stream",
     "text": [
      "DESPUES\n"
     ]
    },
    {
     "data": {
      "image/png": "[encoded data removed]",
      "text/plain": [
       "<Figure size 640x480 with 1 Axes>"
      ]
     },
     "metadata": {},
     "output_type": "display_data"
    }
   ],
   "source": [
    "# Creamos la clase Elipse \n",
    "class Elipse(object):\n",
    "\n",
    "    #Constructor\n",
    "    def __init__(self, xy=(0, 0), width=1, height=1, facecolor='blue', edgecolor='black'):\n",
    "        self.xy = xy\n",
    "        self.width = width\n",
    "        self.height = height\n",
    "        self.facecolor = facecolor\n",
    "        self.edgecolor = edgecolor\n",
    "    #Metodo cambiar ancho\n",
    "    def width_Elipse(self, width):\n",
    "        self.width = width\n",
    "    #Metodo cambiar altura\n",
    "    def height_Elipse(self, height):\n",
    "        self.height = height\n",
    "\n",
    "    def color_Elipse(self, facecolor):\n",
    "        self.facecolor = facecolor\n",
    "\n",
    "    def edgecolor_Elipse(self, edgecolor):\n",
    "        self.edgecolor = edgecolor\n",
    "\n",
    "    def draw_Elipse(self):\n",
    "        elipse = Ellipse(xy=self.xy, width=self.width, height=self.height, facecolor=self.facecolor, edgecolor=self.edgecolor)\n",
    "        ax = plt.gca()\n",
    "        ax.add_patch(elipse)\n",
    "        plt.xlim(self.xy[0] - self.width, self.xy[0] + self.width)\n",
    "        plt.ylim(self.xy[1] - self.height, self.xy[1] + self.height)\n",
    "        plt.show()\n",
    "\n",
    "#Ejemplo de uso\n",
    "elipse = Elipse((1, 1), 2, 3, 'red', 'green')\n",
    "print(\"ANTES\")\n",
    "elipse.draw_Elipse()\n",
    "print(\"DESPUES\")\n",
    "elipse.width_Elipse(4)\n",
    "elipse.height_Elipse(2)\n",
    "elipse.color_Elipse('yellow')\n",
    "elipse.edgecolor_Elipse('blue')\n",
    "elipse.draw_Elipse()"
   ]
  }
 ],
 "metadata": {
  "kernelspec": {
   "display_name": "Python 3 (ipykernel)",
   "language": "python",
   "name": "python3"
  },
  "language_info": {
   "codemirror_mode": {
    "name": "ipython",
    "version": 3
   },
   "file_extension": ".py",
   "mimetype": "text/x-python",
   "name": "python",
   "nbconvert_exporter": "python",
   "pygments_lexer": "ipython3",
   "version": "3.12.4"
  }
 },
 "nbformat": 4,
 "nbformat_minor": 5
}
