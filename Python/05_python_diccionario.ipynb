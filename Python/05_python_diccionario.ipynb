{
 "cells": [
  {
   "cell_type": "markdown",
   "id": "0d610b1a-3d22-407e-831f-158a38ef9572",
   "metadata": {},
   "source": [
    "# Respuestas Cuestionario 5"
   ]
  },
  {
   "cell_type": "markdown",
   "id": "19534c88-a30f-4e66-b40d-feddfde36e82",
   "metadata": {},
   "source": [
    "## Necesitarás este diccionario para las siguientes dos preguntas:"
   ]
  },
  {
   "cell_type": "code",
   "execution_count": 1,
   "id": "d115ccf7-13cc-4449-a9b5-89005352654b",
   "metadata": {},
   "outputs": [
    {
     "data": {
      "text/plain": [
       "{'The Bodyguard': '1992', 'Saturday Night Fever': '1977'}"
      ]
     },
     "execution_count": 1,
     "metadata": {},
     "output_type": "execute_result"
    }
   ],
   "source": [
    "soundtrack_dic = {\"The Bodyguard\":\"1992\", \"Saturday Night Fever\":\"1977\"}\n",
    "soundtrack_dic "
   ]
  },
  {
   "cell_type": "markdown",
   "id": "1293a01d-6635-46c5-8fc2-22f45cd7ddd0",
   "metadata": {},
   "source": [
    "### a) En el diccionario soundtrack_dict. ¿Cuáles son las llaves?"
   ]
  },
  {
   "cell_type": "code",
   "execution_count": 2,
   "id": "005013c0-c8fc-4e12-b029-3fe7ebf93376",
   "metadata": {},
   "outputs": [
    {
     "data": {
      "text/plain": [
       "dict_keys(['The Bodyguard', 'Saturday Night Fever'])"
      ]
     },
     "execution_count": 2,
     "metadata": {},
     "output_type": "execute_result"
    }
   ],
   "source": [
    "soundtrack_dic.keys()"
   ]
  },
  {
   "cell_type": "markdown",
   "id": "1efdfecc-b6ab-4ef4-bee7-57cd37111bce",
   "metadata": {},
   "source": [
    "Se encontro que las llaves del diccionario son 'The Bodyguard', 'Saturday Night Fever'. Las llaves son los indices para acceder a los valores que componen el diccionario"
   ]
  },
  {
   "cell_type": "markdown",
   "id": "0784fc77-7a65-4bb0-bd82-e7a3563e5fc0",
   "metadata": {},
   "source": [
    "### b) En el diccionario soundtrack_dict. ¿Cuáles son los valores?"
   ]
  },
  {
   "cell_type": "code",
   "execution_count": 3,
   "id": "3e0e2cc6-fc92-4804-a4e0-0079d083f5fe",
   "metadata": {},
   "outputs": [
    {
     "data": {
      "text/plain": [
       "dict_values(['1992', '1977'])"
      ]
     },
     "execution_count": 3,
     "metadata": {},
     "output_type": "execute_result"
    }
   ],
   "source": [
    "soundtrack_dic.values()"
   ]
  },
  {
   "cell_type": "markdown",
   "id": "2da30546-a703-4e00-9820-42d5aca378ef",
   "metadata": {},
   "source": [
    "En este caso, los valores son '1992', '1977' que es lo que guardan las llaves"
   ]
  },
  {
   "cell_type": "markdown",
   "id": "26877c2d-7abc-45e4-b99c-299d01697afd",
   "metadata": {},
   "source": [
    "## Necesitarás este diccionario para las siguientes preguntas:"
   ]
  },
  {
   "cell_type": "markdown",
   "id": "7fc86183-cdfd-4320-a8c4-ac5d5367a1ed",
   "metadata": {},
   "source": [
    "### Los discos Back in Black, The Bodyguard y Thriller poseen el siguiente record de ventas en millones, 50, 50 y 65 respectivamente:"
   ]
  },
  {
   "cell_type": "markdown",
   "id": "cd347e00-2646-46b4-867d-15757f8eb5f1",
   "metadata": {},
   "source": [
    "### a) Crea un diccionario album_sales_dict donde las llaves sean el nombre del disco y los valores la cantidad de ventas en millones."
   ]
  },
  {
   "cell_type": "code",
   "execution_count": 4,
   "id": "62ccdcd6-9bf8-4a35-a414-df323a6a1777",
   "metadata": {},
   "outputs": [
    {
     "data": {
      "text/plain": [
       "{'Back in Black': '50', 'The Bodyguard': '50', 'Thriller': '65'}"
      ]
     },
     "execution_count": 4,
     "metadata": {},
     "output_type": "execute_result"
    }
   ],
   "source": [
    "album_sales_dict = {\"Back in Black\": \"50\", \"The Bodyguard\": \"50\", \"Thriller\":\"65\"}\n",
    "album_sales_dict"
   ]
  },
  {
   "cell_type": "markdown",
   "id": "378cfdf4-5f5e-4312-ad5a-9e91525f599e",
   "metadata": {},
   "source": [
    "### b) Usa el diccionario para encontrar las ventas totales de Thriller:"
   ]
  },
  {
   "cell_type": "code",
   "execution_count": 5,
   "id": "a47574d3-d54b-4532-85d2-373a097665af",
   "metadata": {},
   "outputs": [
    {
     "data": {
      "text/plain": [
       "'65'"
      ]
     },
     "execution_count": 5,
     "metadata": {},
     "output_type": "execute_result"
    }
   ],
   "source": [
    "album_sales_dict['Thriller']"
   ]
  },
  {
   "cell_type": "markdown",
   "id": "622b2c68-4e60-4c37-bc45-ed2428279348",
   "metadata": {},
   "source": [
    "Para encontrar el valor de una llave dentro del diccionario se accede a la posición de esta y mostrara el valor asignado, en este caso las ventas totales por el disco Thriller es de 65 millones"
   ]
  },
  {
   "cell_type": "markdown",
   "id": "ce44aa05-7062-40bf-9fe5-f669b0a0f952",
   "metadata": {},
   "source": [
    "### c) Encuentra los nombres de los discos dentro del diccionario mediante el método keys:"
   ]
  },
  {
   "cell_type": "code",
   "execution_count": 6,
   "id": "c272a9ee-e5ad-4022-a31b-3bcaec0df540",
   "metadata": {},
   "outputs": [
    {
     "data": {
      "text/plain": [
       "dict_keys(['Back in Black', 'The Bodyguard', 'Thriller'])"
      ]
     },
     "execution_count": 6,
     "metadata": {},
     "output_type": "execute_result"
    }
   ],
   "source": [
    "album_sales_dict.keys()"
   ]
  },
  {
   "cell_type": "markdown",
   "id": "f275e6ec-080f-43ec-adc4-f4969224f605",
   "metadata": {},
   "source": [
    "Se uso el metodo \".keys()\" para encontrar los nombres de los discos dentro del diccionario creado"
   ]
  },
  {
   "cell_type": "markdown",
   "id": "357b2837-2d39-46a4-b2ad-0b8799fe6e68",
   "metadata": {},
   "source": [
    "### d) Encuentra los records de ventas dentro del diccionario mediante el método values:"
   ]
  },
  {
   "cell_type": "code",
   "execution_count": 7,
   "id": "3e5fcc7a-b2b5-4ae7-b8d8-ea68ce5e50fd",
   "metadata": {},
   "outputs": [
    {
     "data": {
      "text/plain": [
       "dict_values(['50', '50', '65'])"
      ]
     },
     "execution_count": 7,
     "metadata": {},
     "output_type": "execute_result"
    }
   ],
   "source": [
    "album_sales_dict.values()"
   ]
  },
  {
   "cell_type": "markdown",
   "id": "bbb675f9-aa58-4904-bb76-d2992c7ca134",
   "metadata": {},
   "source": [
    "Se uso el método \".values()\" para encontrar los records de ventas de cada album dentro del diccionario. "
   ]
  }
 ],
 "metadata": {
  "kernelspec": {
   "display_name": "Python 3 (ipykernel)",
   "language": "python",
   "name": "python3"
  },
  "language_info": {
   "codemirror_mode": {
    "name": "ipython",
    "version": 3
   },
   "file_extension": ".py",
   "mimetype": "text/x-python",
   "name": "python",
   "nbconvert_exporter": "python",
   "pygments_lexer": "ipython3",
   "version": "3.12.4"
  }
 },
 "nbformat": 4,
 "nbformat_minor": 5
}
